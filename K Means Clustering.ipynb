{
 "cells": [
  {
   "cell_type": "markdown",
   "metadata": {},
   "source": [
    "# Clustering Assignment "
   ]
  },
  {
   "cell_type": "code",
   "execution_count": 27,
   "metadata": {},
   "outputs": [],
   "source": [
    "#Importing numpy library for matrix operations\n",
    "import numpy as np\n",
    "\n",
    "#Importing padas Library for data handling\n",
    "import pandas as pd\n",
    "\n",
    "#Libraries for plots\n",
    "import seaborn as sns\n",
    "import plotly.express as px #For 3D plots\n",
    "import matplotlib.pyplot as plt"
   ]
  },
  {
   "cell_type": "code",
   "execution_count": 28,
   "metadata": {},
   "outputs": [
    {
     "data": {
      "text/html": [
       "<div>\n",
       "<style scoped>\n",
       "    .dataframe tbody tr th:only-of-type {\n",
       "        vertical-align: middle;\n",
       "    }\n",
       "\n",
       "    .dataframe tbody tr th {\n",
       "        vertical-align: top;\n",
       "    }\n",
       "\n",
       "    .dataframe thead th {\n",
       "        text-align: right;\n",
       "    }\n",
       "</style>\n",
       "<table border=\"1\" class=\"dataframe\">\n",
       "  <thead>\n",
       "    <tr style=\"text-align: right;\">\n",
       "      <th></th>\n",
       "      <th>swsLengthHR</th>\n",
       "      <th>swsTimeHR</th>\n",
       "      <th>swsLengthT</th>\n",
       "      <th>swsTimeT</th>\n",
       "      <th>decreasePercentageT</th>\n",
       "      <th>swsTimeM</th>\n",
       "      <th>swsLengthM</th>\n",
       "      <th>decreasePercentageM</th>\n",
       "      <th>amountAsleep</th>\n",
       "      <th>amountAwake</th>\n",
       "      <th>sleepEfficiency</th>\n",
       "      <th>timesAwoken</th>\n",
       "      <th>epochCapacity</th>\n",
       "      <th>epochPeak</th>\n",
       "      <th>epochPeakCounter</th>\n",
       "      <th>stormPeak</th>\n",
       "      <th>largestStorm</th>\n",
       "      <th>timesEdaStorm</th>\n",
       "      <th>meanEdaStorm</th>\n",
       "      <th>lengthEdaStorm</th>\n",
       "    </tr>\n",
       "  </thead>\n",
       "  <tbody>\n",
       "    <tr>\n",
       "      <th>0</th>\n",
       "      <td>0.18416</td>\n",
       "      <td>0.12500</td>\n",
       "      <td>0.51483</td>\n",
       "      <td>0.17241</td>\n",
       "      <td>0.74770</td>\n",
       "      <td>0.18421</td>\n",
       "      <td>0.40978</td>\n",
       "      <td>0.77318</td>\n",
       "      <td>0.25377</td>\n",
       "      <td>0.15766</td>\n",
       "      <td>0.87456</td>\n",
       "      <td>0.12903</td>\n",
       "      <td>-0.21559</td>\n",
       "      <td>0.19061</td>\n",
       "      <td>-0.10638</td>\n",
       "      <td>0.16322</td>\n",
       "      <td>0.04184</td>\n",
       "      <td>0.44231</td>\n",
       "      <td>0.00550</td>\n",
       "      <td>-0.21351</td>\n",
       "    </tr>\n",
       "    <tr>\n",
       "      <th>1</th>\n",
       "      <td>0.32127</td>\n",
       "      <td>0.16667</td>\n",
       "      <td>0.05463</td>\n",
       "      <td>0.03448</td>\n",
       "      <td>0.67481</td>\n",
       "      <td>0.07895</td>\n",
       "      <td>-0.58934</td>\n",
       "      <td>0.69403</td>\n",
       "      <td>0.20452</td>\n",
       "      <td>0.13063</td>\n",
       "      <td>0.86445</td>\n",
       "      <td>0.19355</td>\n",
       "      <td>-0.45059</td>\n",
       "      <td>0.18076</td>\n",
       "      <td>-0.53841</td>\n",
       "      <td>0.12895</td>\n",
       "      <td>0.03104</td>\n",
       "      <td>0.25962</td>\n",
       "      <td>0.00638</td>\n",
       "      <td>-0.52758</td>\n",
       "    </tr>\n",
       "    <tr>\n",
       "      <th>2</th>\n",
       "      <td>0.24143</td>\n",
       "      <td>0.12500</td>\n",
       "      <td>0.00000</td>\n",
       "      <td>0.00000</td>\n",
       "      <td>0.70960</td>\n",
       "      <td>0.18421</td>\n",
       "      <td>0.13056</td>\n",
       "      <td>0.72889</td>\n",
       "      <td>0.26030</td>\n",
       "      <td>0.06306</td>\n",
       "      <td>0.94711</td>\n",
       "      <td>0.06452</td>\n",
       "      <td>-0.59832</td>\n",
       "      <td>0.19577</td>\n",
       "      <td>-0.54688</td>\n",
       "      <td>-0.14439</td>\n",
       "      <td>0.01080</td>\n",
       "      <td>0.33654</td>\n",
       "      <td>0.00347</td>\n",
       "      <td>-0.56527</td>\n",
       "    </tr>\n",
       "    <tr>\n",
       "      <th>3</th>\n",
       "      <td>0.21397</td>\n",
       "      <td>0.12500</td>\n",
       "      <td>0.13443</td>\n",
       "      <td>0.03448</td>\n",
       "      <td>0.66302</td>\n",
       "      <td>0.10526</td>\n",
       "      <td>-0.24984</td>\n",
       "      <td>0.68084</td>\n",
       "      <td>0.22513</td>\n",
       "      <td>0.14414</td>\n",
       "      <td>0.86622</td>\n",
       "      <td>0.09677</td>\n",
       "      <td>-0.43695</td>\n",
       "      <td>0.24985</td>\n",
       "      <td>-0.39440</td>\n",
       "      <td>-0.01412</td>\n",
       "      <td>0.05263</td>\n",
       "      <td>0.29808</td>\n",
       "      <td>0.00579</td>\n",
       "      <td>-0.48152</td>\n",
       "    </tr>\n",
       "    <tr>\n",
       "      <th>4</th>\n",
       "      <td>0.26788</td>\n",
       "      <td>0.12500</td>\n",
       "      <td>0.07161</td>\n",
       "      <td>0.03448</td>\n",
       "      <td>0.71707</td>\n",
       "      <td>0.02632</td>\n",
       "      <td>-0.89690</td>\n",
       "      <td>0.79251</td>\n",
       "      <td>0.21658</td>\n",
       "      <td>0.16216</td>\n",
       "      <td>0.84675</td>\n",
       "      <td>0.16129</td>\n",
       "      <td>-0.42434</td>\n",
       "      <td>0.17387</td>\n",
       "      <td>-0.41981</td>\n",
       "      <td>-0.30115</td>\n",
       "      <td>0.01754</td>\n",
       "      <td>0.36538</td>\n",
       "      <td>0.00342</td>\n",
       "      <td>-0.52340</td>\n",
       "    </tr>\n",
       "  </tbody>\n",
       "</table>\n",
       "</div>"
      ],
      "text/plain": [
       "   swsLengthHR  swsTimeHR  swsLengthT  swsTimeT  decreasePercentageT  \\\n",
       "0      0.18416    0.12500     0.51483   0.17241              0.74770   \n",
       "1      0.32127    0.16667     0.05463   0.03448              0.67481   \n",
       "2      0.24143    0.12500     0.00000   0.00000              0.70960   \n",
       "3      0.21397    0.12500     0.13443   0.03448              0.66302   \n",
       "4      0.26788    0.12500     0.07161   0.03448              0.71707   \n",
       "\n",
       "   swsTimeM  swsLengthM  decreasePercentageM  amountAsleep  amountAwake  \\\n",
       "0   0.18421     0.40978              0.77318       0.25377      0.15766   \n",
       "1   0.07895    -0.58934              0.69403       0.20452      0.13063   \n",
       "2   0.18421     0.13056              0.72889       0.26030      0.06306   \n",
       "3   0.10526    -0.24984              0.68084       0.22513      0.14414   \n",
       "4   0.02632    -0.89690              0.79251       0.21658      0.16216   \n",
       "\n",
       "   sleepEfficiency  timesAwoken  epochCapacity  epochPeak  epochPeakCounter  \\\n",
       "0          0.87456      0.12903       -0.21559    0.19061          -0.10638   \n",
       "1          0.86445      0.19355       -0.45059    0.18076          -0.53841   \n",
       "2          0.94711      0.06452       -0.59832    0.19577          -0.54688   \n",
       "3          0.86622      0.09677       -0.43695    0.24985          -0.39440   \n",
       "4          0.84675      0.16129       -0.42434    0.17387          -0.41981   \n",
       "\n",
       "   stormPeak  largestStorm  timesEdaStorm  meanEdaStorm  lengthEdaStorm  \n",
       "0    0.16322       0.04184        0.44231       0.00550        -0.21351  \n",
       "1    0.12895       0.03104        0.25962       0.00638        -0.52758  \n",
       "2   -0.14439       0.01080        0.33654       0.00347        -0.56527  \n",
       "3   -0.01412       0.05263        0.29808       0.00579        -0.48152  \n",
       "4   -0.30115       0.01754        0.36538       0.00342        -0.52340  "
      ]
     },
     "execution_count": 28,
     "metadata": {},
     "output_type": "execute_result"
    }
   ],
   "source": [
    "#Importing data as dataFrame using pd.read_csv() method\n",
    "df = pd.read_csv('SleepQuality.csv')\n",
    "df.head()"
   ]
  },
  {
   "cell_type": "code",
   "execution_count": 29,
   "metadata": {},
   "outputs": [
    {
     "name": "stdout",
     "output_type": "stream",
     "text": [
      "<class 'pandas.core.frame.DataFrame'>\n",
      "RangeIndex: 218 entries, 0 to 217\n",
      "Data columns (total 20 columns):\n",
      " #   Column               Non-Null Count  Dtype  \n",
      "---  ------               --------------  -----  \n",
      " 0   swsLengthHR          218 non-null    float64\n",
      " 1   swsTimeHR            218 non-null    float64\n",
      " 2   swsLengthT           218 non-null    float64\n",
      " 3   swsTimeT             218 non-null    float64\n",
      " 4   decreasePercentageT  218 non-null    float64\n",
      " 5   swsTimeM             218 non-null    float64\n",
      " 6   swsLengthM           218 non-null    float64\n",
      " 7   decreasePercentageM  218 non-null    float64\n",
      " 8   amountAsleep         218 non-null    float64\n",
      " 9   amountAwake          218 non-null    float64\n",
      " 10  sleepEfficiency      218 non-null    float64\n",
      " 11  timesAwoken          218 non-null    float64\n",
      " 12  epochCapacity        218 non-null    float64\n",
      " 13  epochPeak            218 non-null    float64\n",
      " 14  epochPeakCounter     218 non-null    float64\n",
      " 15  stormPeak            218 non-null    float64\n",
      " 16  largestStorm         218 non-null    float64\n",
      " 17  timesEdaStorm        218 non-null    float64\n",
      " 18  meanEdaStorm         218 non-null    float64\n",
      " 19  lengthEdaStorm       218 non-null    float64\n",
      "dtypes: float64(20)\n",
      "memory usage: 34.2 KB\n"
     ]
    }
   ],
   "source": [
    "df.info()"
   ]
  },
  {
   "cell_type": "code",
   "execution_count": 30,
   "metadata": {},
   "outputs": [],
   "source": [
    "n = np.array([[1,2],\n",
    "         [1.5,1.8],\n",
    "         [5,8],\n",
    "         [8,8],\n",
    "         [1,0.6],\n",
    "         [9,11]])"
   ]
  },
  {
   "cell_type": "code",
   "execution_count": 31,
   "metadata": {},
   "outputs": [],
   "source": [
    "class K_Means_clustering:\n",
    "    def __init__(self, k = 3, tolerance=0.001, iterations=500):\n",
    "        self.k = k\n",
    "        self.tolerance = tolerance\n",
    "        self.iterations = iterations\n",
    "        \n",
    "    def fit(self,data):\n",
    "        self.centroids = {}\n",
    "        np.random.seed(0)\n",
    "        number_of_rows = data.shape[0]\n",
    "        random_indices = np.random.choice(number_of_rows, size=self.k, replace=False)\n",
    "        random_centroids = data[random_indices, :]\n",
    "        for i in range(self.k):\n",
    "            self.centroids[i] = random_centroids[i]\n",
    "\n",
    "        for i in range(self.iterations):\n",
    "            self.clusters = {}\n",
    "\n",
    "            for i in range(self.k):\n",
    "                self.clusters[i] = []\n",
    "\n",
    "            for featureset in data:\n",
    "                distances = [np.linalg.norm(featureset - self.centroids[centroid]) for centroid in self.centroids]\n",
    "                cluster = distances.index(min(distances))\n",
    "                self.clusters[cluster].append(featureset)\n",
    "                \n",
    "        \n",
    "            prev_centroids = dict(self.centroids)\n",
    "\n",
    "            for cluster in self.clusters:\n",
    "                self.centroids[cluster] = np.average(self.clusters[cluster],axis=0)\n",
    "\n",
    "            optimized = True\n",
    "\n",
    "            for c in self.centroids:\n",
    "                original_centroid = prev_centroids[c]\n",
    "                current_centroid = self.centroids[c]\n",
    "                if np.sum((current_centroid-original_centroid)/original_centroid*100.0) > self.tolerance:\n",
    "                    #print(np.sum((current_centroid-original_centroid)/original_centroid*100.0))\n",
    "                    optimized = False\n",
    "\n",
    "            if optimized:  \n",
    "                break"
   ]
  },
  {
   "cell_type": "code",
   "execution_count": 32,
   "metadata": {},
   "outputs": [],
   "source": [
    "def Dunn_Index(clusters, centroids):\n",
    "    \n",
    "    cluster_distances = [np.linalg.norm(centroids[0] - centroids[i]) for i in range(1,len(centroids))]\n",
    "    Inter_cluster_distance = round(min(cluster_distances),3)\n",
    "    \n",
    "    intra_cluster_distances = {}\n",
    "    for cluster in clusters:\n",
    "        distances = [np.linalg.norm(centroids[cluster] - clusters[cluster][i]) for i in range(0,len(clusters[cluster]))]\n",
    "        intra_cluster_distances[cluster] = round(max(distances),3)\n",
    "        DI = Inter_cluster_distance/max(intra_cluster_distances.values())\n",
    "    return round(DI,3)"
   ]
  },
  {
   "cell_type": "markdown",
   "metadata": {},
   "source": [
    "## 1. K-means clustering with different number of clusters<br>\n",
    "**a) Run K-means on the entire SleepQuality dataset with the following 2 variables:'swsLengthM', and 'epochCapacity' with number of clusters K = 2. Plot your clusters using a 3D scatter plot and report (print) the centroid locations. Based on this plot, what are your thoughts on the generated clusters?**\n"
   ]
  },
  {
   "cell_type": "code",
   "execution_count": 33,
   "metadata": {},
   "outputs": [],
   "source": [
    "clf = K_Means_clustering(k = 2)"
   ]
  },
  {
   "cell_type": "code",
   "execution_count": 34,
   "metadata": {},
   "outputs": [],
   "source": [
    "features_1a = df[['swsLengthM', 'epochCapacity']]\n",
    "clf.fit(np.array(features_1a))"
   ]
  },
  {
   "cell_type": "code",
   "execution_count": 35,
   "metadata": {},
   "outputs": [],
   "source": [
    "X_centroids = [clf.centroids[i][0] for i in range(len(clf.centroids))]\n",
    "Y_centroids = [clf.centroids[i][1] for i in range(len(clf.centroids))]"
   ]
  },
  {
   "cell_type": "code",
   "execution_count": 36,
   "metadata": {},
   "outputs": [],
   "source": [
    "X_cluster_0 = [i[0] for i in clf.clusters[0]]\n",
    "Y_cluster_0 = [i[1] for i in clf.clusters[0]]\n",
    "\n",
    "df_cluster_0 = pd.DataFrame([X_cluster_0,Y_cluster_0], index = ['X','Y']).transpose()\n",
    "df_cluster_0['cluster'] = 0\n",
    "\n",
    "X_cluster_1 = [i[0] for i in clf.clusters[1]]\n",
    "Y_cluster_1 = [i[1] for i in clf.clusters[1]]\n",
    "\n",
    "df_cluster_1 = pd.DataFrame([X_cluster_1,Y_cluster_1], index = ['X','Y']).transpose()\n",
    "df_cluster_1['cluster'] = 1"
   ]
  },
  {
   "cell_type": "code",
   "execution_count": 37,
   "metadata": {},
   "outputs": [
    {
     "data": {
      "text/html": [
       "<div>\n",
       "<style scoped>\n",
       "    .dataframe tbody tr th:only-of-type {\n",
       "        vertical-align: middle;\n",
       "    }\n",
       "\n",
       "    .dataframe tbody tr th {\n",
       "        vertical-align: top;\n",
       "    }\n",
       "\n",
       "    .dataframe thead th {\n",
       "        text-align: right;\n",
       "    }\n",
       "</style>\n",
       "<table border=\"1\" class=\"dataframe\">\n",
       "  <thead>\n",
       "    <tr style=\"text-align: right;\">\n",
       "      <th></th>\n",
       "      <th>X</th>\n",
       "      <th>Y</th>\n",
       "      <th>cluster</th>\n",
       "    </tr>\n",
       "  </thead>\n",
       "  <tbody>\n",
       "    <tr>\n",
       "      <th>22</th>\n",
       "      <td>-1.00196</td>\n",
       "      <td>-0.98104</td>\n",
       "      <td>#E3CF57</td>\n",
       "    </tr>\n",
       "    <tr>\n",
       "      <th>47</th>\n",
       "      <td>0.88898</td>\n",
       "      <td>0.10862</td>\n",
       "      <td>#66CDAA</td>\n",
       "    </tr>\n",
       "    <tr>\n",
       "      <th>21</th>\n",
       "      <td>0.34556</td>\n",
       "      <td>-0.37892</td>\n",
       "      <td>#66CDAA</td>\n",
       "    </tr>\n",
       "    <tr>\n",
       "      <th>24</th>\n",
       "      <td>-1.00196</td>\n",
       "      <td>1.43229</td>\n",
       "      <td>#E3CF57</td>\n",
       "    </tr>\n",
       "    <tr>\n",
       "      <th>58</th>\n",
       "      <td>0.21577</td>\n",
       "      <td>0.55248</td>\n",
       "      <td>#E3CF57</td>\n",
       "    </tr>\n",
       "  </tbody>\n",
       "</table>\n",
       "</div>"
      ],
      "text/plain": [
       "          X        Y  cluster\n",
       "22 -1.00196 -0.98104  #E3CF57\n",
       "47  0.88898  0.10862  #66CDAA\n",
       "21  0.34556 -0.37892  #66CDAA\n",
       "24 -1.00196  1.43229  #E3CF57\n",
       "58  0.21577  0.55248  #E3CF57"
      ]
     },
     "execution_count": 37,
     "metadata": {},
     "output_type": "execute_result"
    }
   ],
   "source": [
    "color = {0:'#66CDAA',1:'#E3CF57',2:'#00008B',3:'#7FFF00',4:'#6495ED',5:'#A2CD5A',6:'#1C1C1C',7:'#FF6EB4',8:'#AB82FF',9:'#8B5A00'}\n",
    "final_cluster_df = df_cluster_0.append(df_cluster_1)\n",
    "final_cluster_df.cluster = final_cluster_df.cluster.map(color)\n",
    "final_cluster_df.sample(5)"
   ]
  },
  {
   "cell_type": "code",
   "execution_count": 38,
   "metadata": {},
   "outputs": [
    {
     "data": {
      "image/png": "[encoded data removed]",
      "text/plain": [
       "<Figure size 576x432 with 1 Axes>"
      ]
     },
     "metadata": {
      "needs_background": "light"
     },
     "output_type": "display_data"
    }
   ],
   "source": [
    "plt.figure(figsize=[8,6])\n",
    "plt.scatter(x =final_cluster_df.X , y= final_cluster_df.Y , c= final_cluster_df.cluster)\n",
    "plt.scatter(x = X_centroids[0], y = Y_centroids[0], s= 75, c = 'blue')\n",
    "plt.scatter(x = X_centroids[1], y = Y_centroids[1], s= 75, c = 'blue')\n",
    "plt.xlabel('swsLengthM')\n",
    "plt.ylabel('epochCapacity')\n",
    "plt.show()"
   ]
  },
  {
   "cell_type": "code",
   "execution_count": 39,
   "metadata": {},
   "outputs": [
    {
     "data": {
      "text/plain": [
       "0.538"
      ]
     },
     "execution_count": 39,
     "metadata": {},
     "output_type": "execute_result"
    }
   ],
   "source": [
    "Dunn_Index(clf.clusters,clf.centroids)"
   ]
  },
  {
   "cell_type": "markdown",
   "metadata": {},
   "source": [
    "**b) Test with different numbers of clusters K, running from K = 2 to K = 10 using the same variables in 1a. According to the scatter plots, which number of clusters do you think is the most appropriate? Justify your response.**"
   ]
  },
  {
   "cell_type": "code",
   "execution_count": 40,
   "metadata": {},
   "outputs": [
    {
     "data": {
      "image/png": "[encoded data removed]",
      "text/plain": [
       "<Figure size 504x360 with 1 Axes>"
      ]
     },
     "metadata": {
      "needs_background": "light"
     },
     "output_type": "display_data"
    },
    {
     "data": {
      "image/png": "[encoded data removed]",
      "text/plain": [
       "<Figure size 504x360 with 1 Axes>"
      ]
     },
     "metadata": {
      "needs_background": "light"
     },
     "output_type": "display_data"
    },
    {
     "data": {
      "image/png": "[encoded data removed]",
      "text/plain": [
       "<Figure size 504x360 with 1 Axes>"
      ]
     },
     "metadata": {
      "needs_background": "light"
     },
     "output_type": "display_data"
    },
    {
     "data": {
      "image/png": "[encoded data removed]",
      "text/plain": [
       "<Figure size 504x360 with 1 Axes>"
      ]
     },
     "metadata": {
      "needs_background": "light"
     },
     "output_type": "display_data"
    },
    {
     "data": {
      "image/png": "[encoded data removed]",
      "text/plain": [
       "<Figure size 504x360 with 1 Axes>"
      ]
     },
     "metadata": {
      "needs_background": "light"
     },
     "output_type": "display_data"
    },
    {
     "data": {
      "image/png": "[encoded data removed]",
      "text/plain": [
       "<Figure size 504x360 with 1 Axes>"
      ]
     },
     "metadata": {
      "needs_background": "light"
     },
     "output_type": "display_data"
    },
    {
     "data": {
      "image/png": "[encoded data removed]",
      "text/plain": [
       "<Figure size 504x360 with 1 Axes>"
      ]
     },
     "metadata": {
      "needs_background": "light"
     },
     "output_type": "display_data"
    },
    {
     "data": {
      "image/png": "[encoded data removed]",
      "text/plain": [
       "<Figure size 504x360 with 1 Axes>"
      ]
     },
     "metadata": {
      "needs_background": "light"
     },
     "output_type": "display_data"
    },
    {
     "data": {
      "image/png": "[encoded data removed]",
      "text/plain": [
       "<Figure size 504x360 with 1 Axes>"
      ]
     },
     "metadata": {
      "needs_background": "light"
     },
     "output_type": "display_data"
    }
   ],
   "source": [
    "features = df[['swsLengthM', 'epochCapacity']]\n",
    "Dunn_indices = []\n",
    "for i in range(2,11):\n",
    "    K_means = K_Means_clustering(k = i)\n",
    "    K_means.fit(np.array(features))\n",
    "    \n",
    "    final_cluster_df = pd.DataFrame(columns = ['X','Y','cluster'])\n",
    "    for j in range(i):\n",
    "        \n",
    "        X_cluster = [fea[0] for fea in K_means.clusters[j]]\n",
    "        Y_cluster = [fea[1] for fea in K_means.clusters[j]]\n",
    "\n",
    "        df_cluster = pd.DataFrame([X_cluster,Y_cluster], index = ['X','Y']).transpose()\n",
    "        df_cluster['cluster'] = j\n",
    "        \n",
    "        final_cluster_df = final_cluster_df.append(df_cluster)\n",
    "        if final_cluster_df.shape[0] == features.shape[0] :\n",
    "            final_cluster_df.cluster = final_cluster_df.cluster.map(color)   \n",
    "            plt.figure(figsize=[7,5])    \n",
    "            plt.scatter(x =final_cluster_df.X , y= final_cluster_df.Y , c= final_cluster_df.cluster)\n",
    "            plt.xlabel('swsLengthM')\n",
    "            plt.ylabel('epochCapacity')\n",
    "            plt.title('Number of clusters = '+ str(i))\n",
    "            plt.show()\n",
    "            #Calculating Dunn index\n",
    "            index = Dunn_Index(K_means.clusters, K_means.centroids)\n",
    "            Dunn_indices.append(index)"
   ]
  },
  {
   "cell_type": "code",
   "execution_count": 41,
   "metadata": {},
   "outputs": [
    {
     "data": {
      "image/png": "[encoded data removed]",
      "text/plain": [
       "<Figure size 504x360 with 1 Axes>"
      ]
     },
     "metadata": {
      "needs_background": "light"
     },
     "output_type": "display_data"
    }
   ],
   "source": [
    "x = [i for i in range(2,11)]\n",
    "plt.figure(figsize=[7,5])\n",
    "plt.plot(x,Dunn_indices)\n",
    "plt.xlabel('Number of Clusters')\n",
    "plt.ylabel('Dunn Index (DI)')\n",
    "plt.show()"
   ]
  },
  {
   "cell_type": "markdown",
   "metadata": {},
   "source": [
    "From the above plot we can see dunn index is more for cluster 4."
   ]
  },
  {
   "cell_type": "code",
   "execution_count": 42,
   "metadata": {},
   "outputs": [
    {
     "name": "stdout",
     "output_type": "stream",
     "text": [
      "Maximum DI for cluster 4 is 0.897\n"
     ]
    }
   ],
   "source": [
    "print('Maximum DI for cluster 4 is '+ str(max(Dunn_indices)))"
   ]
  },
  {
   "cell_type": "markdown",
   "metadata": {},
   "source": [
    "## 2. K-means clustering with different variables and sample size (30 points)"
   ]
  },
  {
   "cell_type": "markdown",
   "metadata": {},
   "source": [
    "**A) Based on the best number of clusters you obtained in problem 1c and the 2\n",
    "variables, does adding the ‘lengthEdaStorm’ variable (total 3 variables)\n",
    "improve clustering results? Use scatter plots or any other equivalent method to\n",
    "justify your response.**"
   ]
  },
  {
   "cell_type": "code",
   "execution_count": 43,
   "metadata": {},
   "outputs": [],
   "source": [
    "features = df[['swsLengthM', 'epochCapacity','lengthEdaStorm']]\n",
    "Dunn_indices = []\n",
    "for i in range(4,5):\n",
    "    K_means = K_Means_clustering(k = i)\n",
    "    K_means.fit(np.array(features))\n",
    "    \n",
    "    final_cluster_df = pd.DataFrame(columns = ['X','Y','Z','cluster'])\n",
    "    for j in range(i):\n",
    "        \n",
    "        swsLengthM = [fea[0] for fea in K_means.clusters[j]]\n",
    "        epochCapacity = [fea[1] for fea in K_means.clusters[j]]\n",
    "        lengthEdaStorm = [fea[2] for fea in K_means.clusters[j]]\n",
    "\n",
    "        df_cluster = pd.DataFrame([swsLengthM,epochCapacity,lengthEdaStorm], index = ['swsLengthM','epochCapacity','lengthEdaStorm']).transpose()\n",
    "        df_cluster['cluster'] = j\n",
    "        \n",
    "        final_cluster_df = final_cluster_df.append(df_cluster)\n",
    "        if final_cluster_df.shape[0] == features.shape[0] :\n",
    "            final_cluster_df.cluster = final_cluster_df.cluster.map(color)   \n",
    "            #Calculating Dunn index\n",
    "            index = Dunn_Index(K_means.clusters, K_means.centroids)\n",
    "            Dunn_indices.append(index)"
   ]
  },
  {
   "cell_type": "code",
   "execution_count": 44,
   "metadata": {},
   "outputs": [
    {
     "data": {
      "application/vnd.plotly.v1+json": {
       "config": {
        "plotlyServerURL": "https://plot.ly"
       },
       "data": [
        {
         "hovertemplate": "cluster=#66CDAA<br>swsLengthM=%{x}<br>epochCapacity=%{y}<br>lengthEdaStorm=%{z}<extra></extra>",
         "legendgroup": "#66CDAA",
         "marker": {
          "color": "#636efa",
          "symbol": "circle"
         },
         "mode": "markers",
         "name": "#66CDAA",
         "scene": "scene",
         "showlegend": true,
         "type": "scatter3d",
         "x": [
          0.40978000000000003,
          0.97606,
          0.9549,
          2.18398,
          0.9096200000000001,
          1.01471,
          0.45976000000000006,
          1.5713,
          1.26175,
          1.43425,
          2.1905099999999997,
          0.8279700000000001,
          1.46884,
          1.46137,
          1.61816,
          0.90665,
          0.34556,
          1.6523,
          0.7838,
          0.9989299999999999,
          0.9872799999999999,
          1.0281200000000001,
          0.41557,
          0.25766999999999995,
          1.7643099999999998,
          1.36399,
          2.2742400000000003,
          1.56891,
          1.63481,
          1.01797,
          0.8447600000000001,
          0.78014,
          1.91098,
          2.26805,
          2.03935,
          1.6188799999999999,
          2.14894,
          0.8889799999999999,
          0.9319799999999999,
          0.66688,
          0.89896,
          0.44298999999999994,
          0.63722,
          1.70177,
          2.17897,
          1.24837,
          2.1869400000000003,
          1.36578,
          2.84312,
          2.5174,
          1.20461,
          1.63594,
          0.73997,
          1.0457299999999998,
          0.5097
         ],
         "y": [
          -0.21559,
          -0.37377,
          -0.70391,
          -0.9064399999999999,
          -0.6509999999999999,
          0.4717,
          -0.8815,
          -0.33819,
          0.39077,
          -0.57185,
          0.2073,
          0.32379,
          -0.54847,
          -0.60255,
          -0.8604200000000001,
          -1.0533,
          -0.37892,
          -0.5594600000000001,
          -1.07669,
          -0.13185,
          0.35278000000000004,
          0.32361999999999996,
          -0.16764,
          -0.35764,
          -0.58175,
          -0.9299299999999999,
          -0.9374,
          -1.0596299999999998,
          -0.94609,
          -0.74408,
          -0.34009,
          -0.8243299999999999,
          0.13535,
          0.24952,
          0.025330000000000002,
          0.1383,
          -0.40402,
          0.10862000000000001,
          0.35274,
          -0.5351600000000001,
          -0.83078,
          -0.7902,
          -0.79132,
          -0.9135700000000001,
          -0.80519,
          -0.5061,
          -0.19698,
          -0.35616,
          -0.77952,
          -0.93489,
          -0.9656899999999999,
          -1.07636,
          -0.78681,
          0.34007,
          -1.12005
         ],
         "z": [
          -0.21350999999999998,
          -0.36008,
          -0.68671,
          -0.9296,
          -0.5778399999999999,
          0.75802,
          -0.87935,
          -0.09626,
          0.88365,
          0.14244,
          -0.09207,
          0.49001000000000006,
          -0.56109,
          -0.59877,
          -0.85841,
          -1.08454,
          -0.49827,
          -0.61971,
          -1.0636,
          -0.18839,
          0.47745,
          0.27644,
          -0.18839,
          0.09637000000000001,
          -0.25958000000000003,
          -1.00916,
          -0.87935,
          -1.08035,
          -0.9044700000000001,
          -0.7914100000000001,
          -0.37683,
          -0.8919100000000001,
          0.32669000000000004,
          0.55283,
          0.16756,
          0.3937,
          0.30576,
          0.20525,
          0.44813000000000003,
          -0.66159,
          -0.9547200000000001,
          -0.8877200000000001,
          -0.97985,
          -0.9714700000000001,
          -0.9296,
          -0.47315,
          0.61564,
          -0.45638999999999996,
          -0.69509,
          -0.87516,
          -0.99241,
          -1.0301,
          -0.13813,
          -0.07951,
          -1.02173
         ]
        },
        {
         "hovertemplate": "cluster=#E3CF57<br>swsLengthM=%{x}<br>epochCapacity=%{y}<br>lengthEdaStorm=%{z}<extra></extra>",
         "legendgroup": "#E3CF57",
         "marker": {
          "color": "#EF553B",
          "symbol": "circle"
         },
         "mode": "markers",
         "name": "#E3CF57",
         "scene": "scene",
         "showlegend": true,
         "type": "scatter3d",
         "x": [
          -0.58934,
          0.13055999999999998,
          -0.24984,
          -0.8969,
          -1.00196,
          -0.07403,
          -1.00196,
          -1.00196,
          -1.00196,
          -0.43608,
          -0.33679000000000003,
          -1.00196,
          -1.00196,
          -1.00196,
          -0.79333,
          -0.87155,
          -1.00196,
          -1.00196,
          -1.00196,
          -0.16729000000000002,
          0.05505,
          -0.7360300000000001,
          -1.00196,
          0.18222,
          -0.0057799999999999995,
          -1.00196,
          -0.38955,
          -0.72515,
          -0.15559,
          -0.007520000000000001,
          -0.21055,
          -0.6077,
          -0.3452,
          0.24239000000000002,
          -0.57471,
          -1.00196,
          -0.52998,
          -0.37568,
          -1.00196,
          -1.00196,
          0.33133,
          -1.00196,
          -0.76879,
          -0.58362,
          -1.00196,
          -0.47600000000000003,
          -0.3461,
          0.35299,
          -1.00196,
          -0.39821,
          -0.12850999999999999,
          0.01976,
          -1.00196,
          0.34173000000000003,
          -0.52961,
          -0.58782,
          -0.7217899999999999,
          0.02922,
          0.02922,
          -0.79457,
          -0.71744,
          -0.57328,
          -0.57328,
          -1.00196,
          -0.71373,
          -1.00196,
          -0.71373,
          -1.00196,
          -1.00196,
          0.1706,
          -0.02478,
          -1.00196,
          -1.00196,
          0.0291,
          -0.89761,
          0.41583000000000003,
          -1.00196,
          -0.8290700000000001,
          -1.00196,
          -1.00196,
          -1.00196
         ],
         "y": [
          -0.45059,
          -0.59832,
          -0.43695,
          -0.42433999999999994,
          -0.0898,
          -0.8534,
          -0.9376700000000001,
          -0.8776799999999999,
          -0.7731899999999999,
          -0.9116299999999999,
          -0.7330300000000001,
          -0.86751,
          -0.94544,
          -0.7918,
          -0.83626,
          -0.9026799999999999,
          -0.9908399999999999,
          -0.9810399999999999,
          -0.81235,
          -0.38492,
          -0.8645200000000001,
          -0.7216100000000001,
          -0.7263,
          -0.85977,
          -0.78625,
          -0.9427399999999999,
          -0.34970999999999997,
          -0.38881,
          -0.18135,
          -0.11222,
          -0.7843,
          -0.84119,
          -0.65677,
          -0.73634,
          -0.30458,
          -0.60485,
          -0.46029,
          -0.8801100000000001,
          -0.61803,
          -0.74147,
          -1.02714,
          -0.78627,
          -0.72013,
          -0.59139,
          -0.2904,
          -0.72005,
          -0.513,
          -0.69928,
          -0.5152899999999999,
          -0.21911999999999998,
          -0.21238,
          -0.8230799999999999,
          -0.2322,
          -0.8539100000000001,
          -0.96331,
          -0.16644,
          -0.67971,
          -0.8845700000000001,
          -0.8845700000000001,
          -0.5755600000000001,
          -0.37534,
          -0.8339799999999999,
          -0.8339799999999999,
          -0.43521000000000004,
          -0.8550200000000001,
          -0.9630700000000001,
          -0.8550200000000001,
          -0.9630700000000001,
          -1.0151700000000001,
          -1.0649,
          -0.99608,
          -0.9941399999999999,
          -1.02149,
          -0.97424,
          -0.95768,
          -1.05365,
          -1.01919,
          -0.31598000000000004,
          -0.8836799999999999,
          -1.10396,
          -1.10396
         ],
         "z": [
          -0.52758,
          -0.5652699999999999,
          -0.48152,
          -0.5234,
          -0.19676,
          -0.94635,
          -0.96729,
          -0.92122,
          -0.92122,
          -0.9840399999999999,
          -0.77466,
          -0.94635,
          -1.0426600000000001,
          -0.9547200000000001,
          -0.90028,
          -0.96729,
          -0.90866,
          -0.9966,
          -1.00916,
          -0.5569,
          -0.9296,
          -0.77466,
          -0.73278,
          -0.9296,
          -0.8877200000000001,
          -0.9882200000000001,
          -0.43127,
          -0.39776999999999996,
          -0.23864000000000002,
          -0.09207,
          -0.83747,
          0.29319,
          -0.34333,
          -0.54015,
          -0.11300999999999999,
          -0.57365,
          -0.40614,
          -0.9966,
          -0.6909,
          -0.82491,
          -1.08454,
          -0.87516,
          -0.78303,
          -0.60715,
          -0.47733000000000003,
          -0.73278,
          -0.41452,
          -0.5904,
          -0.36845,
          -0.23864000000000002,
          -0.037630000000000004,
          -0.81653,
          -0.19676,
          -0.87935,
          -1.01335,
          -0.6322800000000001,
          -0.74953,
          -1.00498,
          -1.00498,
          -0.53596,
          -0.37683,
          -0.79978,
          -0.79978,
          -0.46896000000000004,
          -0.81234,
          -0.5904,
          -0.81234,
          -0.5904,
          -1.00916,
          -1.0426600000000001,
          -0.9966,
          -1.00079,
          -1.01335,
          -0.9840399999999999,
          -0.9840399999999999,
          -1.05941,
          -1.0301,
          -0.5904,
          -1.1012899999999999,
          -0.9631,
          -0.9631
         ]
        },
        {
         "hovertemplate": "cluster=#00008B<br>swsLengthM=%{x}<br>epochCapacity=%{y}<br>lengthEdaStorm=%{z}<extra></extra>",
         "legendgroup": "#00008B",
         "marker": {
          "color": "#00cc96",
          "symbol": "circle"
         },
         "mode": "markers",
         "name": "#00008B",
         "scene": "scene",
         "showlegend": true,
         "type": "scatter3d",
         "x": [
          -1.00196,
          -0.79597,
          -1.00196,
          0.07276,
          -0.6822199999999999,
          -1.00196,
          -0.01975,
          -0.1699,
          0.17632,
          -1.00196,
          -1.00196,
          -1.00196,
          -0.7388899999999999,
          -0.85987,
          -1.00196,
          -0.78597,
          -0.72123,
          -0.81926,
          0.46325,
          -0.38429,
          -0.04568,
          -0.1791,
          -0.18216,
          0.21577,
          -1.00196,
          0.054110000000000005,
          -1.00196,
          -1.00196,
          -0.19075999999999999,
          -1.00196,
          -1.00196,
          0.6361,
          -1.00196,
          -0.59509,
          0.18472,
          -0.00095,
          -0.59611,
          -1.00196,
          -1.00196,
          -1.00196,
          0.35561,
          -1.00196,
          -1.00196,
          -1.00196,
          -1.00196,
          -1.00196,
          -1.00196,
          -1.00196,
          -1.00196,
          -1.00196,
          -1.00196,
          0.5049899999999999,
          -0.78482,
          -0.26546,
          0.6179100000000001,
          -0.38055,
          0.44732,
          -1.00196
         ],
         "y": [
          0.29463,
          0.22299000000000002,
          0.96814,
          0.46796000000000004,
          0.56139,
          1.43229,
          0.44969,
          0.17517,
          1.65143,
          0.6303,
          0.78562,
          0.29264,
          0.5503899999999999,
          0.9369799999999999,
          0.0716,
          0.79532,
          0.29112,
          -0.06654,
          0.66965,
          0.47907,
          0.9789,
          1.3886,
          -0.47056000000000003,
          0.55248,
          0.5263399999999999,
          -0.00897,
          0.40971,
          0.21035,
          0.24479,
          0.5421199999999999,
          0.5421199999999999,
          0.6098100000000001,
          0.26731,
          -0.06352999999999999,
          0.46834,
          0.74528,
          0.8224,
          0.60837,
          0.42225,
          0.23926999999999998,
          0.9040299999999999,
          0.45995,
          0.40697,
          0.42541,
          0.89338,
          0.89338,
          0.45995,
          0.40697,
          0.42541,
          0.89338,
          0.89338,
          0.36543000000000003,
          -0.17013,
          0.62888,
          1.22341,
          1.49546,
          0.34318000000000004,
          0.29027
         ],
         "z": [
          0.27644,
          0.08800000000000001,
          0.7245199999999999,
          0.32250999999999996,
          0.7328899999999999,
          1.2982200000000002,
          0.47326,
          0.32669000000000004,
          0.20525,
          -0.43964,
          0.30994,
          0.021,
          0.41045,
          0.4272,
          -0.05438,
          0.5947,
          0.07962000000000001,
          0.36857,
          0.40207,
          0.41045,
          1.08047,
          1.05534,
          0.79571,
          1.01765,
          1.18516,
          -0.037630000000000004,
          0.49838999999999994,
          0.03356,
          -0.1507,
          0.44395,
          0.44395,
          0.62402,
          0.5988899999999999,
          0.02518,
          0.6491399999999999,
          0.90459,
          1.1726,
          0.45232,
          0.34344,
          -0.10463,
          0.14244,
          2.7974,
          0.97578,
          1.01347,
          0.84596,
          0.84596,
          2.7974,
          0.97578,
          1.01347,
          0.84596,
          0.84596,
          0.37276,
          0.058679999999999996,
          0.02518,
          0.18431,
          1.23122,
          0.24713000000000002,
          0.10056
         ]
        },
        {
         "hovertemplate": "cluster=#7FFF00<br>swsLengthM=%{x}<br>epochCapacity=%{y}<br>lengthEdaStorm=%{z}<extra></extra>",
         "legendgroup": "#7FFF00",
         "marker": {
          "color": "#ab63fa",
          "symbol": "circle"
         },
         "mode": "markers",
         "name": "#7FFF00",
         "scene": "scene",
         "showlegend": true,
         "type": "scatter3d",
         "x": [
          1.38484,
          1.5715700000000001,
          0.75755,
          0.56687,
          0.99413,
          2.18003,
          0.17509,
          0.00313,
          0.75629,
          -0.12243,
          -0.3926,
          0.74805,
          -1.00196,
          -0.61349,
          1.2375399999999999,
          -1.00196,
          -1.00196,
          -1.00196,
          -1.00196,
          0.9449700000000001,
          -0.8538399999999999,
          1.2014799999999999,
          2.4502200000000003,
          -0.2737
         ],
         "y": [
          2.88225,
          2.29887,
          3.21025,
          3.2065900000000003,
          1.6942400000000002,
          1.46438,
          1.79624,
          1.81148,
          1.27851,
          1.71514,
          1.42236,
          1.3732799999999998,
          2.0310900000000003,
          1.8199400000000001,
          1.4848700000000001,
          2.9631,
          2.96042,
          2.9631,
          2.96042,
          1.42963,
          2.4117599999999997,
          1.5428600000000001,
          2.52346,
          2.0744599999999997
         ],
         "z": [
          3.1491599999999997,
          2.45401,
          3.04028,
          3.0737799999999997,
          1.8509900000000001,
          1.19353,
          1.9975599999999998,
          1.33591,
          1.28566,
          1.0679,
          1.43223,
          1.4029200000000002,
          1.28566,
          1.7002400000000002,
          1.53273,
          3.24966,
          2.92722,
          3.24966,
          2.92722,
          0.88365,
          1.13909,
          0.77058,
          1.70443,
          1.2731
         ]
        }
       ],
       "layout": {
        "legend": {
         "title": {
          "text": "cluster"
         },
         "tracegroupgap": 0
        },
        "margin": {
         "t": 60
        },
        "scene": {
         "domain": {
          "x": [
           0,
           1
          ],
          "y": [
           0,
           1
          ]
         },
         "xaxis": {
          "title": {
           "text": "swsLengthM"
          }
         },
         "yaxis": {
          "title": {
           "text": "epochCapacity"
          }
         },
         "zaxis": {
          "title": {
           "text": "lengthEdaStorm"
          }
         }
        },
        "template": {
         "data": {
          "bar": [
           {
            "error_x": {
             "color": "#2a3f5f"
            },
            "error_y": {
             "color": "#2a3f5f"
            },
            "marker": {
             "line": {
              "color": "#E5ECF6",
              "width": 0.5
             }
            },
            "type": "bar"
           }
          ],
          "barpolar": [
           {
            "marker": {
             "line": {
              "color": "#E5ECF6",
              "width": 0.5
             }
            },
            "type": "barpolar"
           }
          ],
          "carpet": [
           {
            "aaxis": {
             "endlinecolor": "#2a3f5f",
             "gridcolor": "white",
             "linecolor": "white",
             "minorgridcolor": "white",
             "startlinecolor": "#2a3f5f"
            },
            "baxis": {
             "endlinecolor": "#2a3f5f",
             "gridcolor": "white",
             "linecolor": "white",
             "minorgridcolor": "white",
             "startlinecolor": "#2a3f5f"
            },
            "type": "carpet"
           }
          ],
          "choropleth": [
           {
            "colorbar": {
             "outlinewidth": 0,
             "ticks": ""
            },
            "type": "choropleth"
           }
          ],
          "contour": [
           {
            "colorbar": {
             "outlinewidth": 0,
             "ticks": ""
            },
            "colorscale": [
             [
              0,
              "#0d0887"
             ],
             [
              0.1111111111111111,
              "#46039f"
             ],
             [
              0.2222222222222222,
              "#7201a8"
             ],
             [
              0.3333333333333333,
              "#9c179e"
             ],
             [
              0.4444444444444444,
              "#bd3786"
             ],
             [
              0.5555555555555556,
              "#d8576b"
             ],
             [
              0.6666666666666666,
              "#ed7953"
             ],
             [
              0.7777777777777778,
              "#fb9f3a"
             ],
             [
              0.8888888888888888,
              "#fdca26"
             ],
             [
              1,
              "#f0f921"
             ]
            ],
            "type": "contour"
           }
          ],
          "contourcarpet": [
           {
            "colorbar": {
             "outlinewidth": 0,
             "ticks": ""
            },
            "type": "contourcarpet"
           }
          ],
          "heatmap": [
           {
            "colorbar": {
             "outlinewidth": 0,
             "ticks": ""
            },
            "colorscale": [
             [
              0,
              "#0d0887"
             ],
             [
              0.1111111111111111,
              "#46039f"
             ],
             [
              0.2222222222222222,
              "#7201a8"
             ],
             [
              0.3333333333333333,
              "#9c179e"
             ],
             [
              0.4444444444444444,
              "#bd3786"
             ],
             [
              0.5555555555555556,
              "#d8576b"
             ],
             [
              0.6666666666666666,
              "#ed7953"
             ],
             [
              0.7777777777777778,
              "#fb9f3a"
             ],
             [
              0.8888888888888888,
              "#fdca26"
             ],
             [
              1,
              "#f0f921"
             ]
            ],
            "type": "heatmap"
           }
          ],
          "heatmapgl": [
           {
            "colorbar": {
             "outlinewidth": 0,
             "ticks": ""
            },
            "colorscale": [
             [
              0,
              "#0d0887"
             ],
             [
              0.1111111111111111,
              "#46039f"
             ],
             [
              0.2222222222222222,
              "#7201a8"
             ],
             [
              0.3333333333333333,
              "#9c179e"
             ],
             [
              0.4444444444444444,
              "#bd3786"
             ],
             [
              0.5555555555555556,
              "#d8576b"
             ],
             [
              0.6666666666666666,
              "#ed7953"
             ],
             [
              0.7777777777777778,
              "#fb9f3a"
             ],
             [
              0.8888888888888888,
              "#fdca26"
             ],
             [
              1,
              "#f0f921"
             ]
            ],
            "type": "heatmapgl"
           }
          ],
          "histogram": [
           {
            "marker": {
             "colorbar": {
              "outlinewidth": 0,
              "ticks": ""
             }
            },
            "type": "histogram"
           }
          ],
          "histogram2d": [
           {
            "colorbar": {
             "outlinewidth": 0,
             "ticks": ""
            },
            "colorscale": [
             [
              0,
              "#0d0887"
             ],
             [
              0.1111111111111111,
              "#46039f"
             ],
             [
              0.2222222222222222,
              "#7201a8"
             ],
             [
              0.3333333333333333,
              "#9c179e"
             ],
             [
              0.4444444444444444,
              "#bd3786"
             ],
             [
              0.5555555555555556,
              "#d8576b"
             ],
             [
              0.6666666666666666,
              "#ed7953"
             ],
             [
              0.7777777777777778,
              "#fb9f3a"
             ],
             [
              0.8888888888888888,
              "#fdca26"
             ],
             [
              1,
              "#f0f921"
             ]
            ],
            "type": "histogram2d"
           }
          ],
          "histogram2dcontour": [
           {
            "colorbar": {
             "outlinewidth": 0,
             "ticks": ""
            },
            "colorscale": [
             [
              0,
              "#0d0887"
             ],
             [
              0.1111111111111111,
              "#46039f"
             ],
             [
              0.2222222222222222,
              "#7201a8"
             ],
             [
              0.3333333333333333,
              "#9c179e"
             ],
             [
              0.4444444444444444,
              "#bd3786"
             ],
             [
              0.5555555555555556,
              "#d8576b"
             ],
             [
              0.6666666666666666,
              "#ed7953"
             ],
             [
              0.7777777777777778,
              "#fb9f3a"
             ],
             [
              0.8888888888888888,
              "#fdca26"
             ],
             [
              1,
              "#f0f921"
             ]
            ],
            "type": "histogram2dcontour"
           }
          ],
          "mesh3d": [
           {
            "colorbar": {
             "outlinewidth": 0,
             "ticks": ""
            },
            "type": "mesh3d"
           }
          ],
          "parcoords": [
           {
            "line": {
             "colorbar": {
              "outlinewidth": 0,
              "ticks": ""
             }
            },
            "type": "parcoords"
           }
          ],
          "pie": [
           {
            "automargin": true,
            "type": "pie"
           }
          ],
          "scatter": [
           {
            "marker": {
             "colorbar": {
              "outlinewidth": 0,
              "ticks": ""
             }
            },
            "type": "scatter"
           }
          ],
          "scatter3d": [
           {
            "line": {
             "colorbar": {
              "outlinewidth": 0,
              "ticks": ""
             }
            },
            "marker": {
             "colorbar": {
              "outlinewidth": 0,
              "ticks": ""
             }
            },
            "type": "scatter3d"
           }
          ],
          "scattercarpet": [
           {
            "marker": {
             "colorbar": {
              "outlinewidth": 0,
              "ticks": ""
             }
            },
            "type": "scattercarpet"
           }
          ],
          "scattergeo": [
           {
            "marker": {
             "colorbar": {
              "outlinewidth": 0,
              "ticks": ""
             }
            },
            "type": "scattergeo"
           }
          ],
          "scattergl": [
           {
            "marker": {
             "colorbar": {
              "outlinewidth": 0,
              "ticks": ""
             }
            },
            "type": "scattergl"
           }
          ],
          "scattermapbox": [
           {
            "marker": {
             "colorbar": {
              "outlinewidth": 0,
              "ticks": ""
             }
            },
            "type": "scattermapbox"
           }
          ],
          "scatterpolar": [
           {
            "marker": {
             "colorbar": {
              "outlinewidth": 0,
              "ticks": ""
             }
            },
            "type": "scatterpolar"
           }
          ],
          "scatterpolargl": [
           {
            "marker": {
             "colorbar": {
              "outlinewidth": 0,
              "ticks": ""
             }
            },
            "type": "scatterpolargl"
           }
          ],
          "scatterternary": [
           {
            "marker": {
             "colorbar": {
              "outlinewidth": 0,
              "ticks": ""
             }
            },
            "type": "scatterternary"
           }
          ],
          "surface": [
           {
            "colorbar": {
             "outlinewidth": 0,
             "ticks": ""
            },
            "colorscale": [
             [
              0,
              "#0d0887"
             ],
             [
              0.1111111111111111,
              "#46039f"
             ],
             [
              0.2222222222222222,
              "#7201a8"
             ],
             [
              0.3333333333333333,
              "#9c179e"
             ],
             [
              0.4444444444444444,
              "#bd3786"
             ],
             [
              0.5555555555555556,
              "#d8576b"
             ],
             [
              0.6666666666666666,
              "#ed7953"
             ],
             [
              0.7777777777777778,
              "#fb9f3a"
             ],
             [
              0.8888888888888888,
              "#fdca26"
             ],
             [
              1,
              "#f0f921"
             ]
            ],
            "type": "surface"
           }
          ],
          "table": [
           {
            "cells": {
             "fill": {
              "color": "#EBF0F8"
             },
             "line": {
              "color": "white"
             }
            },
            "header": {
             "fill": {
              "color": "#C8D4E3"
             },
             "line": {
              "color": "white"
             }
            },
            "type": "table"
           }
          ]
         },
         "layout": {
          "annotationdefaults": {
           "arrowcolor": "#2a3f5f",
           "arrowhead": 0,
           "arrowwidth": 1
          },
          "autotypenumbers": "strict",
          "coloraxis": {
           "colorbar": {
            "outlinewidth": 0,
            "ticks": ""
           }
          },
          "colorscale": {
           "diverging": [
            [
             0,
             "#8e0152"
            ],
            [
             0.1,
             "#c51b7d"
            ],
            [
             0.2,
             "#de77ae"
            ],
            [
             0.3,
             "#f1b6da"
            ],
            [
             0.4,
             "#fde0ef"
            ],
            [
             0.5,
             "#f7f7f7"
            ],
            [
             0.6,
             "#e6f5d0"
            ],
            [
             0.7,
             "#b8e186"
            ],
            [
             0.8,
             "#7fbc41"
            ],
            [
             0.9,
             "#4d9221"
            ],
            [
             1,
             "#276419"
            ]
           ],
           "sequential": [
            [
             0,
             "#0d0887"
            ],
            [
             0.1111111111111111,
             "#46039f"
            ],
            [
             0.2222222222222222,
             "#7201a8"
            ],
            [
             0.3333333333333333,
             "#9c179e"
            ],
            [
             0.4444444444444444,
             "#bd3786"
            ],
            [
             0.5555555555555556,
             "#d8576b"
            ],
            [
             0.6666666666666666,
             "#ed7953"
            ],
            [
             0.7777777777777778,
             "#fb9f3a"
            ],
            [
             0.8888888888888888,
             "#fdca26"
            ],
            [
             1,
             "#f0f921"
            ]
           ],
           "sequentialminus": [
            [
             0,
             "#0d0887"
            ],
            [
             0.1111111111111111,
             "#46039f"
            ],
            [
             0.2222222222222222,
             "#7201a8"
            ],
            [
             0.3333333333333333,
             "#9c179e"
            ],
            [
             0.4444444444444444,
             "#bd3786"
            ],
            [
             0.5555555555555556,
             "#d8576b"
            ],
            [
             0.6666666666666666,
             "#ed7953"
            ],
            [
             0.7777777777777778,
             "#fb9f3a"
            ],
            [
             0.8888888888888888,
             "#fdca26"
            ],
            [
             1,
             "#f0f921"
            ]
           ]
          },
          "colorway": [
           "#636efa",
           "#EF553B",
           "#00cc96",
           "#ab63fa",
           "#FFA15A",
           "#19d3f3",
           "#FF6692",
           "#B6E880",
           "#FF97FF",
           "#FECB52"
          ],
          "font": {
           "color": "#2a3f5f"
          },
          "geo": {
           "bgcolor": "white",
           "lakecolor": "white",
           "landcolor": "#E5ECF6",
           "showlakes": true,
           "showland": true,
           "subunitcolor": "white"
          },
          "hoverlabel": {
           "align": "left"
          },
          "hovermode": "closest",
          "mapbox": {
           "style": "light"
          },
          "paper_bgcolor": "white",
          "plot_bgcolor": "#E5ECF6",
          "polar": {
           "angularaxis": {
            "gridcolor": "white",
            "linecolor": "white",
            "ticks": ""
           },
           "bgcolor": "#E5ECF6",
           "radialaxis": {
            "gridcolor": "white",
            "linecolor": "white",
            "ticks": ""
           }
          },
          "scene": {
           "xaxis": {
            "backgroundcolor": "#E5ECF6",
            "gridcolor": "white",
            "gridwidth": 2,
            "linecolor": "white",
            "showbackground": true,
            "ticks": "",
            "zerolinecolor": "white"
           },
           "yaxis": {
            "backgroundcolor": "#E5ECF6",
            "gridcolor": "white",
            "gridwidth": 2,
            "linecolor": "white",
            "showbackground": true,
            "ticks": "",
            "zerolinecolor": "white"
           },
           "zaxis": {
            "backgroundcolor": "#E5ECF6",
            "gridcolor": "white",
            "gridwidth": 2,
            "linecolor": "white",
            "showbackground": true,
            "ticks": "",
            "zerolinecolor": "white"
           }
          },
          "shapedefaults": {
           "line": {
            "color": "#2a3f5f"
           }
          },
          "ternary": {
           "aaxis": {
            "gridcolor": "white",
            "linecolor": "white",
            "ticks": ""
           },
           "baxis": {
            "gridcolor": "white",
            "linecolor": "white",
            "ticks": ""
           },
           "bgcolor": "#E5ECF6",
           "caxis": {
            "gridcolor": "white",
            "linecolor": "white",
            "ticks": ""
           }
          },
          "title": {
           "x": 0.05
          },
          "xaxis": {
           "automargin": true,
           "gridcolor": "white",
           "linecolor": "white",
           "ticks": "",
           "title": {
            "standoff": 15
           },
           "zerolinecolor": "white",
           "zerolinewidth": 2
          },
          "yaxis": {
           "automargin": true,
           "gridcolor": "white",
           "linecolor": "white",
           "ticks": "",
           "title": {
            "standoff": 15
           },
           "zerolinecolor": "white",
           "zerolinewidth": 2
          }
         }
        }
       }
      },
      "text/html": [
       "<div>                            <div id=\"7a0a3aaa-6293-4ccb-9a22-42ec9cb9975d\" class=\"plotly-graph-div\" style=\"height:525px; width:100%;\"></div>            <script type=\"text/javascript\">                require([\"plotly\"], function(Plotly) {                    window.PLOTLYENV=window.PLOTLYENV || {};                                    if (document.getElementById(\"7a0a3aaa-6293-4ccb-9a22-42ec9cb9975d\")) {                    Plotly.newPlot(                        \"7a0a3aaa-6293-4ccb-9a22-42ec9cb9975d\",                        [{\"hovertemplate\": \"cluster=#66CDAA<br>swsLengthM=%{x}<br>epochCapacity=%{y}<br>lengthEdaStorm=%{z}<extra></extra>\", \"legendgroup\": \"#66CDAA\", \"marker\": {\"color\": \"#636efa\", \"symbol\": \"circle\"}, \"mode\": \"markers\", \"name\": \"#66CDAA\", \"scene\": \"scene\", \"showlegend\": true, \"type\": \"scatter3d\", \"x\": [0.40978000000000003, 0.97606, 0.9549, 2.18398, 0.9096200000000001, 1.01471, 0.45976000000000006, 1.5713, 1.26175, 1.43425, 2.1905099999999997, 0.8279700000000001, 1.46884, 1.46137, 1.61816, 0.90665, 0.34556, 1.6523, 0.7838, 0.9989299999999999, 0.9872799999999999, 1.0281200000000001, 0.41557, 0.25766999999999995, 1.7643099999999998, 1.36399, 2.2742400000000003, 1.56891, 1.63481, 1.01797, 0.8447600000000001, 0.78014, 1.91098, 2.26805, 2.03935, 1.6188799999999999, 2.14894, 0.8889799999999999, 0.9319799999999999, 0.66688, 0.89896, 0.44298999999999994, 0.63722, 1.70177, 2.17897, 1.24837, 2.1869400000000003, 1.36578, 2.84312, 2.5174, 1.20461, 1.63594, 0.73997, 1.0457299999999998, 0.5097], \"y\": [-0.21559, -0.37377, -0.70391, -0.9064399999999999, -0.6509999999999999, 0.4717, -0.8815, -0.33819, 0.39077, -0.57185, 0.2073, 0.32379, -0.54847, -0.60255, -0.8604200000000001, -1.0533, -0.37892, -0.5594600000000001, -1.07669, -0.13185, 0.35278000000000004, 0.32361999999999996, -0.16764, -0.35764, -0.58175, -0.9299299999999999, -0.9374, -1.0596299999999998, -0.94609, -0.74408, -0.34009, -0.8243299999999999, 0.13535, 0.24952, 0.025330000000000002, 0.1383, -0.40402, 0.10862000000000001, 0.35274, -0.5351600000000001, -0.83078, -0.7902, -0.79132, -0.9135700000000001, -0.80519, -0.5061, -0.19698, -0.35616, -0.77952, -0.93489, -0.9656899999999999, -1.07636, -0.78681, 0.34007, -1.12005], \"z\": [-0.21350999999999998, -0.36008, -0.68671, -0.9296, -0.5778399999999999, 0.75802, -0.87935, -0.09626, 0.88365, 0.14244, -0.09207, 0.49001000000000006, -0.56109, -0.59877, -0.85841, -1.08454, -0.49827, -0.61971, -1.0636, -0.18839, 0.47745, 0.27644, -0.18839, 0.09637000000000001, -0.25958000000000003, -1.00916, -0.87935, -1.08035, -0.9044700000000001, -0.7914100000000001, -0.37683, -0.8919100000000001, 0.32669000000000004, 0.55283, 0.16756, 0.3937, 0.30576, 0.20525, 0.44813000000000003, -0.66159, -0.9547200000000001, -0.8877200000000001, -0.97985, -0.9714700000000001, -0.9296, -0.47315, 0.61564, -0.45638999999999996, -0.69509, -0.87516, -0.99241, -1.0301, -0.13813, -0.07951, -1.02173]}, {\"hovertemplate\": \"cluster=#E3CF57<br>swsLengthM=%{x}<br>epochCapacity=%{y}<br>lengthEdaStorm=%{z}<extra></extra>\", \"legendgroup\": \"#E3CF57\", \"marker\": {\"color\": \"#EF553B\", \"symbol\": \"circle\"}, \"mode\": \"markers\", \"name\": \"#E3CF57\", \"scene\": \"scene\", \"showlegend\": true, \"type\": \"scatter3d\", \"x\": [-0.58934, 0.13055999999999998, -0.24984, -0.8969, -1.00196, -0.07403, -1.00196, -1.00196, -1.00196, -0.43608, -0.33679000000000003, -1.00196, -1.00196, -1.00196, -0.79333, -0.87155, -1.00196, -1.00196, -1.00196, -0.16729000000000002, 0.05505, -0.7360300000000001, -1.00196, 0.18222, -0.0057799999999999995, -1.00196, -0.38955, -0.72515, -0.15559, -0.007520000000000001, -0.21055, -0.6077, -0.3452, 0.24239000000000002, -0.57471, -1.00196, -0.52998, -0.37568, -1.00196, -1.00196, 0.33133, -1.00196, -0.76879, -0.58362, -1.00196, -0.47600000000000003, -0.3461, 0.35299, -1.00196, -0.39821, -0.12850999999999999, 0.01976, -1.00196, 0.34173000000000003, -0.52961, -0.58782, -0.7217899999999999, 0.02922, 0.02922, -0.79457, -0.71744, -0.57328, -0.57328, -1.00196, -0.71373, -1.00196, -0.71373, -1.00196, -1.00196, 0.1706, -0.02478, -1.00196, -1.00196, 0.0291, -0.89761, 0.41583000000000003, -1.00196, -0.8290700000000001, -1.00196, -1.00196, -1.00196], \"y\": [-0.45059, -0.59832, -0.43695, -0.42433999999999994, -0.0898, -0.8534, -0.9376700000000001, -0.8776799999999999, -0.7731899999999999, -0.9116299999999999, -0.7330300000000001, -0.86751, -0.94544, -0.7918, -0.83626, -0.9026799999999999, -0.9908399999999999, -0.9810399999999999, -0.81235, -0.38492, -0.8645200000000001, -0.7216100000000001, -0.7263, -0.85977, -0.78625, -0.9427399999999999, -0.34970999999999997, -0.38881, -0.18135, -0.11222, -0.7843, -0.84119, -0.65677, -0.73634, -0.30458, -0.60485, -0.46029, -0.8801100000000001, -0.61803, -0.74147, -1.02714, -0.78627, -0.72013, -0.59139, -0.2904, -0.72005, -0.513, -0.69928, -0.5152899999999999, -0.21911999999999998, -0.21238, -0.8230799999999999, -0.2322, -0.8539100000000001, -0.96331, -0.16644, -0.67971, -0.8845700000000001, -0.8845700000000001, -0.5755600000000001, -0.37534, -0.8339799999999999, -0.8339799999999999, -0.43521000000000004, -0.8550200000000001, -0.9630700000000001, -0.8550200000000001, -0.9630700000000001, -1.0151700000000001, -1.0649, -0.99608, -0.9941399999999999, -1.02149, -0.97424, -0.95768, -1.05365, -1.01919, -0.31598000000000004, -0.8836799999999999, -1.10396, -1.10396], \"z\": [-0.52758, -0.5652699999999999, -0.48152, -0.5234, -0.19676, -0.94635, -0.96729, -0.92122, -0.92122, -0.9840399999999999, -0.77466, -0.94635, -1.0426600000000001, -0.9547200000000001, -0.90028, -0.96729, -0.90866, -0.9966, -1.00916, -0.5569, -0.9296, -0.77466, -0.73278, -0.9296, -0.8877200000000001, -0.9882200000000001, -0.43127, -0.39776999999999996, -0.23864000000000002, -0.09207, -0.83747, 0.29319, -0.34333, -0.54015, -0.11300999999999999, -0.57365, -0.40614, -0.9966, -0.6909, -0.82491, -1.08454, -0.87516, -0.78303, -0.60715, -0.47733000000000003, -0.73278, -0.41452, -0.5904, -0.36845, -0.23864000000000002, -0.037630000000000004, -0.81653, -0.19676, -0.87935, -1.01335, -0.6322800000000001, -0.74953, -1.00498, -1.00498, -0.53596, -0.37683, -0.79978, -0.79978, -0.46896000000000004, -0.81234, -0.5904, -0.81234, -0.5904, -1.00916, -1.0426600000000001, -0.9966, -1.00079, -1.01335, -0.9840399999999999, -0.9840399999999999, -1.05941, -1.0301, -0.5904, -1.1012899999999999, -0.9631, -0.9631]}, {\"hovertemplate\": \"cluster=#00008B<br>swsLengthM=%{x}<br>epochCapacity=%{y}<br>lengthEdaStorm=%{z}<extra></extra>\", \"legendgroup\": \"#00008B\", \"marker\": {\"color\": \"#00cc96\", \"symbol\": \"circle\"}, \"mode\": \"markers\", \"name\": \"#00008B\", \"scene\": \"scene\", \"showlegend\": true, \"type\": \"scatter3d\", \"x\": [-1.00196, -0.79597, -1.00196, 0.07276, -0.6822199999999999, -1.00196, -0.01975, -0.1699, 0.17632, -1.00196, -1.00196, -1.00196, -0.7388899999999999, -0.85987, -1.00196, -0.78597, -0.72123, -0.81926, 0.46325, -0.38429, -0.04568, -0.1791, -0.18216, 0.21577, -1.00196, 0.054110000000000005, -1.00196, -1.00196, -0.19075999999999999, -1.00196, -1.00196, 0.6361, -1.00196, -0.59509, 0.18472, -0.00095, -0.59611, -1.00196, -1.00196, -1.00196, 0.35561, -1.00196, -1.00196, -1.00196, -1.00196, -1.00196, -1.00196, -1.00196, -1.00196, -1.00196, -1.00196, 0.5049899999999999, -0.78482, -0.26546, 0.6179100000000001, -0.38055, 0.44732, -1.00196], \"y\": [0.29463, 0.22299000000000002, 0.96814, 0.46796000000000004, 0.56139, 1.43229, 0.44969, 0.17517, 1.65143, 0.6303, 0.78562, 0.29264, 0.5503899999999999, 0.9369799999999999, 0.0716, 0.79532, 0.29112, -0.06654, 0.66965, 0.47907, 0.9789, 1.3886, -0.47056000000000003, 0.55248, 0.5263399999999999, -0.00897, 0.40971, 0.21035, 0.24479, 0.5421199999999999, 0.5421199999999999, 0.6098100000000001, 0.26731, -0.06352999999999999, 0.46834, 0.74528, 0.8224, 0.60837, 0.42225, 0.23926999999999998, 0.9040299999999999, 0.45995, 0.40697, 0.42541, 0.89338, 0.89338, 0.45995, 0.40697, 0.42541, 0.89338, 0.89338, 0.36543000000000003, -0.17013, 0.62888, 1.22341, 1.49546, 0.34318000000000004, 0.29027], \"z\": [0.27644, 0.08800000000000001, 0.7245199999999999, 0.32250999999999996, 0.7328899999999999, 1.2982200000000002, 0.47326, 0.32669000000000004, 0.20525, -0.43964, 0.30994, 0.021, 0.41045, 0.4272, -0.05438, 0.5947, 0.07962000000000001, 0.36857, 0.40207, 0.41045, 1.08047, 1.05534, 0.79571, 1.01765, 1.18516, -0.037630000000000004, 0.49838999999999994, 0.03356, -0.1507, 0.44395, 0.44395, 0.62402, 0.5988899999999999, 0.02518, 0.6491399999999999, 0.90459, 1.1726, 0.45232, 0.34344, -0.10463, 0.14244, 2.7974, 0.97578, 1.01347, 0.84596, 0.84596, 2.7974, 0.97578, 1.01347, 0.84596, 0.84596, 0.37276, 0.058679999999999996, 0.02518, 0.18431, 1.23122, 0.24713000000000002, 0.10056]}, {\"hovertemplate\": \"cluster=#7FFF00<br>swsLengthM=%{x}<br>epochCapacity=%{y}<br>lengthEdaStorm=%{z}<extra></extra>\", \"legendgroup\": \"#7FFF00\", \"marker\": {\"color\": \"#ab63fa\", \"symbol\": \"circle\"}, \"mode\": \"markers\", \"name\": \"#7FFF00\", \"scene\": \"scene\", \"showlegend\": true, \"type\": \"scatter3d\", \"x\": [1.38484, 1.5715700000000001, 0.75755, 0.56687, 0.99413, 2.18003, 0.17509, 0.00313, 0.75629, -0.12243, -0.3926, 0.74805, -1.00196, -0.61349, 1.2375399999999999, -1.00196, -1.00196, -1.00196, -1.00196, 0.9449700000000001, -0.8538399999999999, 1.2014799999999999, 2.4502200000000003, -0.2737], \"y\": [2.88225, 2.29887, 3.21025, 3.2065900000000003, 1.6942400000000002, 1.46438, 1.79624, 1.81148, 1.27851, 1.71514, 1.42236, 1.3732799999999998, 2.0310900000000003, 1.8199400000000001, 1.4848700000000001, 2.9631, 2.96042, 2.9631, 2.96042, 1.42963, 2.4117599999999997, 1.5428600000000001, 2.52346, 2.0744599999999997], \"z\": [3.1491599999999997, 2.45401, 3.04028, 3.0737799999999997, 1.8509900000000001, 1.19353, 1.9975599999999998, 1.33591, 1.28566, 1.0679, 1.43223, 1.4029200000000002, 1.28566, 1.7002400000000002, 1.53273, 3.24966, 2.92722, 3.24966, 2.92722, 0.88365, 1.13909, 0.77058, 1.70443, 1.2731]}],                        {\"legend\": {\"title\": {\"text\": \"cluster\"}, \"tracegroupgap\": 0}, \"margin\": {\"t\": 60}, \"scene\": {\"domain\": {\"x\": [0.0, 1.0], \"y\": [0.0, 1.0]}, \"xaxis\": {\"title\": {\"text\": \"swsLengthM\"}}, \"yaxis\": {\"title\": {\"text\": \"epochCapacity\"}}, \"zaxis\": {\"title\": {\"text\": \"lengthEdaStorm\"}}}, \"template\": {\"data\": {\"bar\": [{\"error_x\": {\"color\": \"#2a3f5f\"}, \"error_y\": {\"color\": \"#2a3f5f\"}, \"marker\": {\"line\": {\"color\": \"#E5ECF6\", \"width\": 0.5}}, \"type\": \"bar\"}], \"barpolar\": [{\"marker\": {\"line\": {\"color\": \"#E5ECF6\", \"width\": 0.5}}, \"type\": \"barpolar\"}], \"carpet\": [{\"aaxis\": {\"endlinecolor\": \"#2a3f5f\", \"gridcolor\": \"white\", \"linecolor\": \"white\", \"minorgridcolor\": \"white\", \"startlinecolor\": \"#2a3f5f\"}, \"baxis\": {\"endlinecolor\": \"#2a3f5f\", \"gridcolor\": \"white\", \"linecolor\": \"white\", \"minorgridcolor\": \"white\", \"startlinecolor\": \"#2a3f5f\"}, \"type\": \"carpet\"}], \"choropleth\": [{\"colorbar\": {\"outlinewidth\": 0, \"ticks\": \"\"}, \"type\": \"choropleth\"}], \"contour\": [{\"colorbar\": {\"outlinewidth\": 0, \"ticks\": \"\"}, \"colorscale\": [[0.0, \"#0d0887\"], [0.1111111111111111, \"#46039f\"], [0.2222222222222222, \"#7201a8\"], [0.3333333333333333, \"#9c179e\"], [0.4444444444444444, \"#bd3786\"], [0.5555555555555556, \"#d8576b\"], [0.6666666666666666, \"#ed7953\"], [0.7777777777777778, \"#fb9f3a\"], [0.8888888888888888, \"#fdca26\"], [1.0, \"#f0f921\"]], \"type\": \"contour\"}], \"contourcarpet\": [{\"colorbar\": {\"outlinewidth\": 0, \"ticks\": \"\"}, \"type\": \"contourcarpet\"}], \"heatmap\": [{\"colorbar\": {\"outlinewidth\": 0, \"ticks\": \"\"}, \"colorscale\": [[0.0, \"#0d0887\"], [0.1111111111111111, \"#46039f\"], [0.2222222222222222, \"#7201a8\"], [0.3333333333333333, \"#9c179e\"], [0.4444444444444444, \"#bd3786\"], [0.5555555555555556, \"#d8576b\"], [0.6666666666666666, \"#ed7953\"], [0.7777777777777778, \"#fb9f3a\"], [0.8888888888888888, \"#fdca26\"], [1.0, \"#f0f921\"]], \"type\": \"heatmap\"}], \"heatmapgl\": [{\"colorbar\": {\"outlinewidth\": 0, \"ticks\": \"\"}, \"colorscale\": [[0.0, \"#0d0887\"], [0.1111111111111111, \"#46039f\"], [0.2222222222222222, \"#7201a8\"], [0.3333333333333333, \"#9c179e\"], [0.4444444444444444, \"#bd3786\"], [0.5555555555555556, \"#d8576b\"], [0.6666666666666666, \"#ed7953\"], [0.7777777777777778, \"#fb9f3a\"], [0.8888888888888888, \"#fdca26\"], [1.0, \"#f0f921\"]], \"type\": \"heatmapgl\"}], \"histogram\": [{\"marker\": {\"colorbar\": {\"outlinewidth\": 0, \"ticks\": \"\"}}, \"type\": \"histogram\"}], \"histogram2d\": [{\"colorbar\": {\"outlinewidth\": 0, \"ticks\": \"\"}, \"colorscale\": [[0.0, \"#0d0887\"], [0.1111111111111111, \"#46039f\"], [0.2222222222222222, \"#7201a8\"], [0.3333333333333333, \"#9c179e\"], [0.4444444444444444, \"#bd3786\"], [0.5555555555555556, \"#d8576b\"], [0.6666666666666666, \"#ed7953\"], [0.7777777777777778, \"#fb9f3a\"], [0.8888888888888888, \"#fdca26\"], [1.0, \"#f0f921\"]], \"type\": \"histogram2d\"}], \"histogram2dcontour\": [{\"colorbar\": {\"outlinewidth\": 0, \"ticks\": \"\"}, \"colorscale\": [[0.0, \"#0d0887\"], [0.1111111111111111, \"#46039f\"], [0.2222222222222222, \"#7201a8\"], [0.3333333333333333, \"#9c179e\"], [0.4444444444444444, \"#bd3786\"], [0.5555555555555556, \"#d8576b\"], [0.6666666666666666, \"#ed7953\"], [0.7777777777777778, \"#fb9f3a\"], [0.8888888888888888, \"#fdca26\"], [1.0, \"#f0f921\"]], \"type\": \"histogram2dcontour\"}], \"mesh3d\": [{\"colorbar\": {\"outlinewidth\": 0, \"ticks\": \"\"}, \"type\": \"mesh3d\"}], \"parcoords\": [{\"line\": {\"colorbar\": {\"outlinewidth\": 0, \"ticks\": \"\"}}, \"type\": \"parcoords\"}], \"pie\": [{\"automargin\": true, \"type\": \"pie\"}], \"scatter\": [{\"marker\": {\"colorbar\": {\"outlinewidth\": 0, \"ticks\": \"\"}}, \"type\": \"scatter\"}], \"scatter3d\": [{\"line\": {\"colorbar\": {\"outlinewidth\": 0, \"ticks\": \"\"}}, \"marker\": {\"colorbar\": {\"outlinewidth\": 0, \"ticks\": \"\"}}, \"type\": \"scatter3d\"}], \"scattercarpet\": [{\"marker\": {\"colorbar\": {\"outlinewidth\": 0, \"ticks\": \"\"}}, \"type\": \"scattercarpet\"}], \"scattergeo\": [{\"marker\": {\"colorbar\": {\"outlinewidth\": 0, \"ticks\": \"\"}}, \"type\": \"scattergeo\"}], \"scattergl\": [{\"marker\": {\"colorbar\": {\"outlinewidth\": 0, \"ticks\": \"\"}}, \"type\": \"scattergl\"}], \"scattermapbox\": [{\"marker\": {\"colorbar\": {\"outlinewidth\": 0, \"ticks\": \"\"}}, \"type\": \"scattermapbox\"}], \"scatterpolar\": [{\"marker\": {\"colorbar\": {\"outlinewidth\": 0, \"ticks\": \"\"}}, \"type\": \"scatterpolar\"}], \"scatterpolargl\": [{\"marker\": {\"colorbar\": {\"outlinewidth\": 0, \"ticks\": \"\"}}, \"type\": \"scatterpolargl\"}], \"scatterternary\": [{\"marker\": {\"colorbar\": {\"outlinewidth\": 0, \"ticks\": \"\"}}, \"type\": \"scatterternary\"}], \"surface\": [{\"colorbar\": {\"outlinewidth\": 0, \"ticks\": \"\"}, \"colorscale\": [[0.0, \"#0d0887\"], [0.1111111111111111, \"#46039f\"], [0.2222222222222222, \"#7201a8\"], [0.3333333333333333, \"#9c179e\"], [0.4444444444444444, \"#bd3786\"], [0.5555555555555556, \"#d8576b\"], [0.6666666666666666, \"#ed7953\"], [0.7777777777777778, \"#fb9f3a\"], [0.8888888888888888, \"#fdca26\"], [1.0, \"#f0f921\"]], \"type\": \"surface\"}], \"table\": [{\"cells\": {\"fill\": {\"color\": \"#EBF0F8\"}, \"line\": {\"color\": \"white\"}}, \"header\": {\"fill\": {\"color\": \"#C8D4E3\"}, \"line\": {\"color\": \"white\"}}, \"type\": \"table\"}]}, \"layout\": {\"annotationdefaults\": {\"arrowcolor\": \"#2a3f5f\", \"arrowhead\": 0, \"arrowwidth\": 1}, \"autotypenumbers\": \"strict\", \"coloraxis\": {\"colorbar\": {\"outlinewidth\": 0, \"ticks\": \"\"}}, \"colorscale\": {\"diverging\": [[0, \"#8e0152\"], [0.1, \"#c51b7d\"], [0.2, \"#de77ae\"], [0.3, \"#f1b6da\"], [0.4, \"#fde0ef\"], [0.5, \"#f7f7f7\"], [0.6, \"#e6f5d0\"], [0.7, \"#b8e186\"], [0.8, \"#7fbc41\"], [0.9, \"#4d9221\"], [1, \"#276419\"]], \"sequential\": [[0.0, \"#0d0887\"], [0.1111111111111111, \"#46039f\"], [0.2222222222222222, \"#7201a8\"], [0.3333333333333333, \"#9c179e\"], [0.4444444444444444, \"#bd3786\"], [0.5555555555555556, \"#d8576b\"], [0.6666666666666666, \"#ed7953\"], [0.7777777777777778, \"#fb9f3a\"], [0.8888888888888888, \"#fdca26\"], [1.0, \"#f0f921\"]], \"sequentialminus\": [[0.0, \"#0d0887\"], [0.1111111111111111, \"#46039f\"], [0.2222222222222222, \"#7201a8\"], [0.3333333333333333, \"#9c179e\"], [0.4444444444444444, \"#bd3786\"], [0.5555555555555556, \"#d8576b\"], [0.6666666666666666, \"#ed7953\"], [0.7777777777777778, \"#fb9f3a\"], [0.8888888888888888, \"#fdca26\"], [1.0, \"#f0f921\"]]}, \"colorway\": [\"#636efa\", \"#EF553B\", \"#00cc96\", \"#ab63fa\", \"#FFA15A\", \"#19d3f3\", \"#FF6692\", \"#B6E880\", \"#FF97FF\", \"#FECB52\"], \"font\": {\"color\": \"#2a3f5f\"}, \"geo\": {\"bgcolor\": \"white\", \"lakecolor\": \"white\", \"landcolor\": \"#E5ECF6\", \"showlakes\": true, \"showland\": true, \"subunitcolor\": \"white\"}, \"hoverlabel\": {\"align\": \"left\"}, \"hovermode\": \"closest\", \"mapbox\": {\"style\": \"light\"}, \"paper_bgcolor\": \"white\", \"plot_bgcolor\": \"#E5ECF6\", \"polar\": {\"angularaxis\": {\"gridcolor\": \"white\", \"linecolor\": \"white\", \"ticks\": \"\"}, \"bgcolor\": \"#E5ECF6\", \"radialaxis\": {\"gridcolor\": \"white\", \"linecolor\": \"white\", \"ticks\": \"\"}}, \"scene\": {\"xaxis\": {\"backgroundcolor\": \"#E5ECF6\", \"gridcolor\": \"white\", \"gridwidth\": 2, \"linecolor\": \"white\", \"showbackground\": true, \"ticks\": \"\", \"zerolinecolor\": \"white\"}, \"yaxis\": {\"backgroundcolor\": \"#E5ECF6\", \"gridcolor\": \"white\", \"gridwidth\": 2, \"linecolor\": \"white\", \"showbackground\": true, \"ticks\": \"\", \"zerolinecolor\": \"white\"}, \"zaxis\": {\"backgroundcolor\": \"#E5ECF6\", \"gridcolor\": \"white\", \"gridwidth\": 2, \"linecolor\": \"white\", \"showbackground\": true, \"ticks\": \"\", \"zerolinecolor\": \"white\"}}, \"shapedefaults\": {\"line\": {\"color\": \"#2a3f5f\"}}, \"ternary\": {\"aaxis\": {\"gridcolor\": \"white\", \"linecolor\": \"white\", \"ticks\": \"\"}, \"baxis\": {\"gridcolor\": \"white\", \"linecolor\": \"white\", \"ticks\": \"\"}, \"bgcolor\": \"#E5ECF6\", \"caxis\": {\"gridcolor\": \"white\", \"linecolor\": \"white\", \"ticks\": \"\"}}, \"title\": {\"x\": 0.05}, \"xaxis\": {\"automargin\": true, \"gridcolor\": \"white\", \"linecolor\": \"white\", \"ticks\": \"\", \"title\": {\"standoff\": 15}, \"zerolinecolor\": \"white\", \"zerolinewidth\": 2}, \"yaxis\": {\"automargin\": true, \"gridcolor\": \"white\", \"linecolor\": \"white\", \"ticks\": \"\", \"title\": {\"standoff\": 15}, \"zerolinecolor\": \"white\", \"zerolinewidth\": 2}}}},                        {\"responsive\": true}                    ).then(function(){\n",
       "                            \n",
       "var gd = document.getElementById('7a0a3aaa-6293-4ccb-9a22-42ec9cb9975d');\n",
       "var x = new MutationObserver(function (mutations, observer) {{\n",
       "        var display = window.getComputedStyle(gd).display;\n",
       "        if (!display || display === 'none') {{\n",
       "            console.log([gd, 'removed!']);\n",
       "            Plotly.purge(gd);\n",
       "            observer.disconnect();\n",
       "        }}\n",
       "}});\n",
       "\n",
       "// Listen for the removal of the full notebook cells\n",
       "var notebookContainer = gd.closest('#notebook-container');\n",
       "if (notebookContainer) {{\n",
       "    x.observe(notebookContainer, {childList: true});\n",
       "}}\n",
       "\n",
       "// Listen for the clearing of the current output cell\n",
       "var outputEl = gd.closest('.output');\n",
       "if (outputEl) {{\n",
       "    x.observe(outputEl, {childList: true});\n",
       "}}\n",
       "\n",
       "                        })                };                });            </script>        </div>"
      ]
     },
     "metadata": {},
     "output_type": "display_data"
    }
   ],
   "source": [
    "px.scatter_3d(final_cluster_df, x='swsLengthM', y='epochCapacity', z='lengthEdaStorm',color='cluster')"
   ]
  },
  {
   "cell_type": "code",
   "execution_count": 45,
   "metadata": {},
   "outputs": [
    {
     "data": {
      "text/plain": [
       "[0.843]"
      ]
     },
     "execution_count": 45,
     "metadata": {},
     "output_type": "execute_result"
    }
   ],
   "source": [
    "Dunn_indices"
   ]
  },
  {
   "cell_type": "markdown",
   "metadata": {},
   "source": [
    "**B) Based on the model in problem 2a, does adding the ‘epochPeakCounter’ and\n",
    "‘stormPeak’ variables (total 5 variables) improve the clustering results? Plot the\n",
    "results and compute the dunn index to justify your response.**"
   ]
  },
  {
   "cell_type": "code",
   "execution_count": 46,
   "metadata": {},
   "outputs": [],
   "source": [
    "features = df[['swsLengthM', 'epochCapacity','lengthEdaStorm','epochPeakCounter','stormPeak']]\n",
    "K_means = K_Means_clustering(k = 4)\n",
    "K_means.fit(np.array(features))"
   ]
  },
  {
   "cell_type": "markdown",
   "metadata": {},
   "source": [
    "**Dunn Index for the model with five features**"
   ]
  },
  {
   "cell_type": "code",
   "execution_count": 47,
   "metadata": {},
   "outputs": [
    {
     "name": "stdout",
     "output_type": "stream",
     "text": [
      "0.502\n"
     ]
    }
   ],
   "source": [
    "print(Dunn_Index(K_means.clusters, K_means.centroids))"
   ]
  },
  {
   "cell_type": "markdown",
   "metadata": {},
   "source": [
    "**C) Randomly sample 100 observations and 50 observations from the data and\n",
    "re-run 2a and 2b, for each sample size. Plot the clustering results and compute\n",
    "dunn index for each sample size and compare the results with 100 and 50\n",
    "observations vs the entire dataset. Justify what you observe.**"
   ]
  },
  {
   "cell_type": "markdown",
   "metadata": {},
   "source": [
    "- Creating a cluster with the features `['swsLengthM', 'epochCapacity','lengthEdaStorm']` and sample size 100"
   ]
  },
  {
   "cell_type": "code",
   "execution_count": 48,
   "metadata": {},
   "outputs": [],
   "source": [
    "features = df[['swsLengthM', 'epochCapacity','lengthEdaStorm']].sample(100)\n",
    "Dunn_indices = []\n",
    "for i in range(4,5):\n",
    "    K_means = K_Means_clustering(k = i)\n",
    "    K_means.fit(np.array(features))\n",
    "    \n",
    "    final_cluster_df = pd.DataFrame(columns = ['X','Y','Z','cluster'])\n",
    "    for j in range(i):\n",
    "        \n",
    "        swsLengthM = [fea[0] for fea in K_means.clusters[j]]\n",
    "        epochCapacity = [fea[1] for fea in K_means.clusters[j]]\n",
    "        lengthEdaStorm = [fea[2] for fea in K_means.clusters[j]]\n",
    "\n",
    "        df_cluster = pd.DataFrame([swsLengthM,epochCapacity,lengthEdaStorm], \n",
    "                                  index = ['swsLengthM','epochCapacity','lengthEdaStorm']).transpose()\n",
    "        df_cluster['cluster'] = j\n",
    "        \n",
    "        final_cluster_df = final_cluster_df.append(df_cluster)\n",
    "        if final_cluster_df.shape[0] == features.shape[0] :\n",
    "            final_cluster_df.cluster = final_cluster_df.cluster.map(color)   \n",
    "            #Calculating Dunn index\n",
    "            index = Dunn_Index(K_means.clusters, K_means.centroids)\n",
    "            Dunn_indices.append(index)"
   ]
  },
  {
   "cell_type": "code",
   "execution_count": 49,
   "metadata": {},
   "outputs": [
    {
     "data": {
      "application/vnd.plotly.v1+json": {
       "config": {
        "plotlyServerURL": "https://plot.ly"
       },
       "data": [
        {
         "hovertemplate": "cluster=#66CDAA<br>swsLengthM=%{x}<br>epochCapacity=%{y}<br>lengthEdaStorm=%{z}<extra></extra>",
         "legendgroup": "#66CDAA",
         "marker": {
          "color": "#636efa",
          "symbol": "circle"
         },
         "mode": "markers",
         "name": "#66CDAA",
         "scene": "scene",
         "showlegend": true,
         "type": "scatter3d",
         "x": [
          -1.00196,
          -1.00196,
          -1.00196,
          0.18472,
          -1.00196,
          -0.26546,
          -0.6822199999999999,
          0.35561,
          0.054110000000000005,
          -0.81926,
          -0.1699,
          -0.19075999999999999,
          -0.72123,
          -1.00196,
          -1.00196,
          -0.15559,
          -1.00196,
          -1.00196,
          0.8279700000000001,
          -0.78597,
          0.9319799999999999,
          -1.00196,
          -1.00196,
          -0.78482,
          -0.79597,
          -0.38429,
          -0.18216
         ],
         "y": [
          0.40971,
          0.78562,
          0.21035,
          0.46834,
          0.89338,
          0.62888,
          0.56139,
          0.9040299999999999,
          -0.00897,
          -0.06654,
          0.17517,
          0.24479,
          0.29112,
          0.40697,
          0.29463,
          -0.18135,
          0.60837,
          0.5421199999999999,
          0.32379,
          0.79532,
          0.35274,
          -0.0898,
          0.29027,
          -0.17013,
          0.22299000000000002,
          0.47907,
          -0.47056000000000003
         ],
         "z": [
          0.49838999999999994,
          0.30994,
          0.03356,
          0.6491399999999999,
          0.84596,
          0.02518,
          0.7328899999999999,
          0.14244,
          -0.037630000000000004,
          0.36857,
          0.32669000000000004,
          -0.1507,
          0.07962000000000001,
          0.97578,
          0.27644,
          -0.23864000000000002,
          0.45232,
          0.44395,
          0.49001000000000006,
          0.5947,
          0.44813000000000003,
          -0.19676,
          0.10056,
          0.058679999999999996,
          0.08800000000000001,
          0.41045,
          0.79571
         ]
        },
        {
         "hovertemplate": "cluster=#E3CF57<br>swsLengthM=%{x}<br>epochCapacity=%{y}<br>lengthEdaStorm=%{z}<extra></extra>",
         "legendgroup": "#E3CF57",
         "marker": {
          "color": "#EF553B",
          "symbol": "circle"
         },
         "mode": "markers",
         "name": "#E3CF57",
         "scene": "scene",
         "showlegend": true,
         "type": "scatter3d",
         "x": [
          0.9549,
          0.9872799999999999,
          0.5097,
          1.36399,
          0.8447600000000001,
          2.17897,
          1.36578,
          1.70177,
          1.7643099999999998,
          0.63722,
          2.5174,
          0.44298999999999994,
          1.56891,
          0.7838,
          0.90665,
          1.91098,
          2.1905099999999997,
          1.6523,
          2.14894,
          1.46884,
          0.35299,
          0.97606,
          1.43425
         ],
         "y": [
          -0.70391,
          0.35278000000000004,
          -1.12005,
          -0.9299299999999999,
          -0.34009,
          -0.80519,
          -0.35616,
          -0.9135700000000001,
          -0.58175,
          -0.79132,
          -0.93489,
          -0.7902,
          -1.0596299999999998,
          -1.07669,
          -1.0533,
          0.13535,
          0.2073,
          -0.5594600000000001,
          -0.40402,
          -0.54847,
          -0.69928,
          -0.37377,
          -0.57185
         ],
         "z": [
          -0.68671,
          0.47745,
          -1.02173,
          -1.00916,
          -0.37683,
          -0.9296,
          -0.45638999999999996,
          -0.9714700000000001,
          -0.25958000000000003,
          -0.97985,
          -0.87516,
          -0.8877200000000001,
          -1.08035,
          -1.0636,
          -1.08454,
          0.32669000000000004,
          -0.09207,
          -0.61971,
          0.30576,
          -0.56109,
          -0.5904,
          -0.36008,
          0.14244
         ]
        },
        {
         "hovertemplate": "cluster=#00008B<br>swsLengthM=%{x}<br>epochCapacity=%{y}<br>lengthEdaStorm=%{z}<extra></extra>",
         "legendgroup": "#00008B",
         "marker": {
          "color": "#00cc96",
          "symbol": "circle"
         },
         "mode": "markers",
         "name": "#00008B",
         "scene": "scene",
         "showlegend": true,
         "type": "scatter3d",
         "x": [
          -1.00196,
          -1.00196,
          -1.00196,
          -0.0057799999999999995,
          -0.57328,
          -1.00196,
          0.05505,
          -1.00196,
          -0.02478,
          -1.00196,
          -0.6077,
          -0.58782,
          -0.52961,
          -0.52998,
          -0.58934,
          -0.79333,
          -1.00196,
          -1.00196,
          -1.00196,
          -1.00196,
          0.02922,
          0.34173000000000003,
          -1.00196,
          -1.00196,
          -0.8969,
          -0.71373,
          -1.00196,
          -1.00196,
          -1.00196,
          -1.00196,
          -0.71744,
          -0.07403
         ],
         "y": [
          -0.94544,
          -1.02149,
          -0.9630700000000001,
          -0.78625,
          -0.8339799999999999,
          -1.10396,
          -0.8645200000000001,
          -0.7263,
          -0.99608,
          -0.9376700000000001,
          -0.84119,
          -0.16644,
          -0.96331,
          -0.46029,
          -0.45059,
          -0.83626,
          -0.5152899999999999,
          -0.9941399999999999,
          -1.0151700000000001,
          -0.74147,
          -0.8845700000000001,
          -0.8539100000000001,
          -0.9810399999999999,
          -0.81235,
          -0.42433999999999994,
          -0.8550200000000001,
          -0.78627,
          -0.9630700000000001,
          -0.7918,
          -0.86751,
          -0.37534,
          -0.8534
         ],
         "z": [
          -1.0426600000000001,
          -1.01335,
          -0.5904,
          -0.8877200000000001,
          -0.79978,
          -0.9631,
          -0.9296,
          -0.73278,
          -0.9966,
          -0.96729,
          0.29319,
          -0.6322800000000001,
          -1.01335,
          -0.40614,
          -0.52758,
          -0.90028,
          -0.36845,
          -1.00079,
          -1.00916,
          -0.82491,
          -1.00498,
          -0.87935,
          -0.9966,
          -1.00916,
          -0.5234,
          -0.81234,
          -0.87516,
          -0.5904,
          -0.9547200000000001,
          -0.94635,
          -0.37683,
          -0.94635
         ]
        },
        {
         "hovertemplate": "cluster=#7FFF00<br>swsLengthM=%{x}<br>epochCapacity=%{y}<br>lengthEdaStorm=%{z}<extra></extra>",
         "legendgroup": "#7FFF00",
         "marker": {
          "color": "#ab63fa",
          "symbol": "circle"
         },
         "mode": "markers",
         "name": "#7FFF00",
         "scene": "scene",
         "showlegend": true,
         "type": "scatter3d",
         "x": [
          -0.61349,
          0.9449700000000001,
          0.6179100000000001,
          2.18003,
          1.26175,
          0.75629,
          -1.00196,
          2.4502200000000003,
          1.2014799999999999,
          0.74805,
          -1.00196,
          0.6361,
          -1.00196,
          -0.38055,
          -0.3926,
          -1.00196,
          -0.8538399999999999,
          -0.12243
         ],
         "y": [
          1.8199400000000001,
          1.42963,
          1.22341,
          1.46438,
          0.39077,
          1.27851,
          2.96042,
          2.52346,
          1.5428600000000001,
          1.3732799999999998,
          2.9631,
          0.6098100000000001,
          2.0310900000000003,
          1.49546,
          1.42236,
          0.45995,
          2.4117599999999997,
          1.71514
         ],
         "z": [
          1.7002400000000002,
          0.88365,
          0.18431,
          1.19353,
          0.88365,
          1.28566,
          2.92722,
          1.70443,
          0.77058,
          1.4029200000000002,
          3.24966,
          0.62402,
          1.28566,
          1.23122,
          1.43223,
          2.7974,
          1.13909,
          1.0679
         ]
        }
       ],
       "layout": {
        "legend": {
         "title": {
          "text": "cluster"
         },
         "tracegroupgap": 0
        },
        "margin": {
         "t": 60
        },
        "scene": {
         "domain": {
          "x": [
           0,
           1
          ],
          "y": [
           0,
           1
          ]
         },
         "xaxis": {
          "title": {
           "text": "swsLengthM"
          }
         },
         "yaxis": {
          "title": {
           "text": "epochCapacity"
          }
         },
         "zaxis": {
          "title": {
           "text": "lengthEdaStorm"
          }
         }
        },
        "template": {
         "data": {
          "bar": [
           {
            "error_x": {
             "color": "#2a3f5f"
            },
            "error_y": {
             "color": "#2a3f5f"
            },
            "marker": {
             "line": {
              "color": "#E5ECF6",
              "width": 0.5
             }
            },
            "type": "bar"
           }
          ],
          "barpolar": [
           {
            "marker": {
             "line": {
              "color": "#E5ECF6",
              "width": 0.5
             }
            },
            "type": "barpolar"
           }
          ],
          "carpet": [
           {
            "aaxis": {
             "endlinecolor": "#2a3f5f",
             "gridcolor": "white",
             "linecolor": "white",
             "minorgridcolor": "white",
             "startlinecolor": "#2a3f5f"
            },
            "baxis": {
             "endlinecolor": "#2a3f5f",
             "gridcolor": "white",
             "linecolor": "white",
             "minorgridcolor": "white",
             "startlinecolor": "#2a3f5f"
            },
            "type": "carpet"
           }
          ],
          "choropleth": [
           {
            "colorbar": {
             "outlinewidth": 0,
             "ticks": ""
            },
            "type": "choropleth"
           }
          ],
          "contour": [
           {
            "colorbar": {
             "outlinewidth": 0,
             "ticks": ""
            },
            "colorscale": [
             [
              0,
              "#0d0887"
             ],
             [
              0.1111111111111111,
              "#46039f"
             ],
             [
              0.2222222222222222,
              "#7201a8"
             ],
             [
              0.3333333333333333,
              "#9c179e"
             ],
             [
              0.4444444444444444,
              "#bd3786"
             ],
             [
              0.5555555555555556,
              "#d8576b"
             ],
             [
              0.6666666666666666,
              "#ed7953"
             ],
             [
              0.7777777777777778,
              "#fb9f3a"
             ],
             [
              0.8888888888888888,
              "#fdca26"
             ],
             [
              1,
              "#f0f921"
             ]
            ],
            "type": "contour"
           }
          ],
          "contourcarpet": [
           {
            "colorbar": {
             "outlinewidth": 0,
             "ticks": ""
            },
            "type": "contourcarpet"
           }
          ],
          "heatmap": [
           {
            "colorbar": {
             "outlinewidth": 0,
             "ticks": ""
            },
            "colorscale": [
             [
              0,
              "#0d0887"
             ],
             [
              0.1111111111111111,
              "#46039f"
             ],
             [
              0.2222222222222222,
              "#7201a8"
             ],
             [
              0.3333333333333333,
              "#9c179e"
             ],
             [
              0.4444444444444444,
              "#bd3786"
             ],
             [
              0.5555555555555556,
              "#d8576b"
             ],
             [
              0.6666666666666666,
              "#ed7953"
             ],
             [
              0.7777777777777778,
              "#fb9f3a"
             ],
             [
              0.8888888888888888,
              "#fdca26"
             ],
             [
              1,
              "#f0f921"
             ]
            ],
            "type": "heatmap"
           }
          ],
          "heatmapgl": [
           {
            "colorbar": {
             "outlinewidth": 0,
             "ticks": ""
            },
            "colorscale": [
             [
              0,
              "#0d0887"
             ],
             [
              0.1111111111111111,
              "#46039f"
             ],
             [
              0.2222222222222222,
              "#7201a8"
             ],
             [
              0.3333333333333333,
              "#9c179e"
             ],
             [
              0.4444444444444444,
              "#bd3786"
             ],
             [
              0.5555555555555556,
              "#d8576b"
             ],
             [
              0.6666666666666666,
              "#ed7953"
             ],
             [
              0.7777777777777778,
              "#fb9f3a"
             ],
             [
              0.8888888888888888,
              "#fdca26"
             ],
             [
              1,
              "#f0f921"
             ]
            ],
            "type": "heatmapgl"
           }
          ],
          "histogram": [
           {
            "marker": {
             "colorbar": {
              "outlinewidth": 0,
              "ticks": ""
             }
            },
            "type": "histogram"
           }
          ],
          "histogram2d": [
           {
            "colorbar": {
             "outlinewidth": 0,
             "ticks": ""
            },
            "colorscale": [
             [
              0,
              "#0d0887"
             ],
             [
              0.1111111111111111,
              "#46039f"
             ],
             [
              0.2222222222222222,
              "#7201a8"
             ],
             [
              0.3333333333333333,
              "#9c179e"
             ],
             [
              0.4444444444444444,
              "#bd3786"
             ],
             [
              0.5555555555555556,
              "#d8576b"
             ],
             [
              0.6666666666666666,
              "#ed7953"
             ],
             [
              0.7777777777777778,
              "#fb9f3a"
             ],
             [
              0.8888888888888888,
              "#fdca26"
             ],
             [
              1,
              "#f0f921"
             ]
            ],
            "type": "histogram2d"
           }
          ],
          "histogram2dcontour": [
           {
            "colorbar": {
             "outlinewidth": 0,
             "ticks": ""
            },
            "colorscale": [
             [
              0,
              "#0d0887"
             ],
             [
              0.1111111111111111,
              "#46039f"
             ],
             [
              0.2222222222222222,
              "#7201a8"
             ],
             [
              0.3333333333333333,
              "#9c179e"
             ],
             [
              0.4444444444444444,
              "#bd3786"
             ],
             [
              0.5555555555555556,
              "#d8576b"
             ],
             [
              0.6666666666666666,
              "#ed7953"
             ],
             [
              0.7777777777777778,
              "#fb9f3a"
             ],
             [
              0.8888888888888888,
              "#fdca26"
             ],
             [
              1,
              "#f0f921"
             ]
            ],
            "type": "histogram2dcontour"
           }
          ],
          "mesh3d": [
           {
            "colorbar": {
             "outlinewidth": 0,
             "ticks": ""
            },
            "type": "mesh3d"
           }
          ],
          "parcoords": [
           {
            "line": {
             "colorbar": {
              "outlinewidth": 0,
              "ticks": ""
             }
            },
            "type": "parcoords"
           }
          ],
          "pie": [
           {
            "automargin": true,
            "type": "pie"
           }
          ],
          "scatter": [
           {
            "marker": {
             "colorbar": {
              "outlinewidth": 0,
              "ticks": ""
             }
            },
            "type": "scatter"
           }
          ],
          "scatter3d": [
           {
            "line": {
             "colorbar": {
              "outlinewidth": 0,
              "ticks": ""
             }
            },
            "marker": {
             "colorbar": {
              "outlinewidth": 0,
              "ticks": ""
             }
            },
            "type": "scatter3d"
           }
          ],
          "scattercarpet": [
           {
            "marker": {
             "colorbar": {
              "outlinewidth": 0,
              "ticks": ""
             }
            },
            "type": "scattercarpet"
           }
          ],
          "scattergeo": [
           {
            "marker": {
             "colorbar": {
              "outlinewidth": 0,
              "ticks": ""
             }
            },
            "type": "scattergeo"
           }
          ],
          "scattergl": [
           {
            "marker": {
             "colorbar": {
              "outlinewidth": 0,
              "ticks": ""
             }
            },
            "type": "scattergl"
           }
          ],
          "scattermapbox": [
           {
            "marker": {
             "colorbar": {
              "outlinewidth": 0,
              "ticks": ""
             }
            },
            "type": "scattermapbox"
           }
          ],
          "scatterpolar": [
           {
            "marker": {
             "colorbar": {
              "outlinewidth": 0,
              "ticks": ""
             }
            },
            "type": "scatterpolar"
           }
          ],
          "scatterpolargl": [
           {
            "marker": {
             "colorbar": {
              "outlinewidth": 0,
              "ticks": ""
             }
            },
            "type": "scatterpolargl"
           }
          ],
          "scatterternary": [
           {
            "marker": {
             "colorbar": {
              "outlinewidth": 0,
              "ticks": ""
             }
            },
            "type": "scatterternary"
           }
          ],
          "surface": [
           {
            "colorbar": {
             "outlinewidth": 0,
             "ticks": ""
            },
            "colorscale": [
             [
              0,
              "#0d0887"
             ],
             [
              0.1111111111111111,
              "#46039f"
             ],
             [
              0.2222222222222222,
              "#7201a8"
             ],
             [
              0.3333333333333333,
              "#9c179e"
             ],
             [
              0.4444444444444444,
              "#bd3786"
             ],
             [
              0.5555555555555556,
              "#d8576b"
             ],
             [
              0.6666666666666666,
              "#ed7953"
             ],
             [
              0.7777777777777778,
              "#fb9f3a"
             ],
             [
              0.8888888888888888,
              "#fdca26"
             ],
             [
              1,
              "#f0f921"
             ]
            ],
            "type": "surface"
           }
          ],
          "table": [
           {
            "cells": {
             "fill": {
              "color": "#EBF0F8"
             },
             "line": {
              "color": "white"
             }
            },
            "header": {
             "fill": {
              "color": "#C8D4E3"
             },
             "line": {
              "color": "white"
             }
            },
            "type": "table"
           }
          ]
         },
         "layout": {
          "annotationdefaults": {
           "arrowcolor": "#2a3f5f",
           "arrowhead": 0,
           "arrowwidth": 1
          },
          "autotypenumbers": "strict",
          "coloraxis": {
           "colorbar": {
            "outlinewidth": 0,
            "ticks": ""
           }
          },
          "colorscale": {
           "diverging": [
            [
             0,
             "#8e0152"
            ],
            [
             0.1,
             "#c51b7d"
            ],
            [
             0.2,
             "#de77ae"
            ],
            [
             0.3,
             "#f1b6da"
            ],
            [
             0.4,
             "#fde0ef"
            ],
            [
             0.5,
             "#f7f7f7"
            ],
            [
             0.6,
             "#e6f5d0"
            ],
            [
             0.7,
             "#b8e186"
            ],
            [
             0.8,
             "#7fbc41"
            ],
            [
             0.9,
             "#4d9221"
            ],
            [
             1,
             "#276419"
            ]
           ],
           "sequential": [
            [
             0,
             "#0d0887"
            ],
            [
             0.1111111111111111,
             "#46039f"
            ],
            [
             0.2222222222222222,
             "#7201a8"
            ],
            [
             0.3333333333333333,
             "#9c179e"
            ],
            [
             0.4444444444444444,
             "#bd3786"
            ],
            [
             0.5555555555555556,
             "#d8576b"
            ],
            [
             0.6666666666666666,
             "#ed7953"
            ],
            [
             0.7777777777777778,
             "#fb9f3a"
            ],
            [
             0.8888888888888888,
             "#fdca26"
            ],
            [
             1,
             "#f0f921"
            ]
           ],
           "sequentialminus": [
            [
             0,
             "#0d0887"
            ],
            [
             0.1111111111111111,
             "#46039f"
            ],
            [
             0.2222222222222222,
             "#7201a8"
            ],
            [
             0.3333333333333333,
             "#9c179e"
            ],
            [
             0.4444444444444444,
             "#bd3786"
            ],
            [
             0.5555555555555556,
             "#d8576b"
            ],
            [
             0.6666666666666666,
             "#ed7953"
            ],
            [
             0.7777777777777778,
             "#fb9f3a"
            ],
            [
             0.8888888888888888,
             "#fdca26"
            ],
            [
             1,
             "#f0f921"
            ]
           ]
          },
          "colorway": [
           "#636efa",
           "#EF553B",
           "#00cc96",
           "#ab63fa",
           "#FFA15A",
           "#19d3f3",
           "#FF6692",
           "#B6E880",
           "#FF97FF",
           "#FECB52"
          ],
          "font": {
           "color": "#2a3f5f"
          },
          "geo": {
           "bgcolor": "white",
           "lakecolor": "white",
           "landcolor": "#E5ECF6",
           "showlakes": true,
           "showland": true,
           "subunitcolor": "white"
          },
          "hoverlabel": {
           "align": "left"
          },
          "hovermode": "closest",
          "mapbox": {
           "style": "light"
          },
          "paper_bgcolor": "white",
          "plot_bgcolor": "#E5ECF6",
          "polar": {
           "angularaxis": {
            "gridcolor": "white",
            "linecolor": "white",
            "ticks": ""
           },
           "bgcolor": "#E5ECF6",
           "radialaxis": {
            "gridcolor": "white",
            "linecolor": "white",
            "ticks": ""
           }
          },
          "scene": {
           "xaxis": {
            "backgroundcolor": "#E5ECF6",
            "gridcolor": "white",
            "gridwidth": 2,
            "linecolor": "white",
            "showbackground": true,
            "ticks": "",
            "zerolinecolor": "white"
           },
           "yaxis": {
            "backgroundcolor": "#E5ECF6",
            "gridcolor": "white",
            "gridwidth": 2,
            "linecolor": "white",
            "showbackground": true,
            "ticks": "",
            "zerolinecolor": "white"
           },
           "zaxis": {
            "backgroundcolor": "#E5ECF6",
            "gridcolor": "white",
            "gridwidth": 2,
            "linecolor": "white",
            "showbackground": true,
            "ticks": "",
            "zerolinecolor": "white"
           }
          },
          "shapedefaults": {
           "line": {
            "color": "#2a3f5f"
           }
          },
          "ternary": {
           "aaxis": {
            "gridcolor": "white",
            "linecolor": "white",
            "ticks": ""
           },
           "baxis": {
            "gridcolor": "white",
            "linecolor": "white",
            "ticks": ""
           },
           "bgcolor": "#E5ECF6",
           "caxis": {
            "gridcolor": "white",
            "linecolor": "white",
            "ticks": ""
           }
          },
          "title": {
           "x": 0.05
          },
          "xaxis": {
           "automargin": true,
           "gridcolor": "white",
           "linecolor": "white",
           "ticks": "",
           "title": {
            "standoff": 15
           },
           "zerolinecolor": "white",
           "zerolinewidth": 2
          },
          "yaxis": {
           "automargin": true,
           "gridcolor": "white",
           "linecolor": "white",
           "ticks": "",
           "title": {
            "standoff": 15
           },
           "zerolinecolor": "white",
           "zerolinewidth": 2
          }
         }
        }
       }
      },
      "text/html": [
       "<div>                            <div id=\"8c04d6e1-4781-4962-94d0-2db3ca7b3e99\" class=\"plotly-graph-div\" style=\"height:525px; width:100%;\"></div>            <script type=\"text/javascript\">                require([\"plotly\"], function(Plotly) {                    window.PLOTLYENV=window.PLOTLYENV || {};                                    if (document.getElementById(\"8c04d6e1-4781-4962-94d0-2db3ca7b3e99\")) {                    Plotly.newPlot(                        \"8c04d6e1-4781-4962-94d0-2db3ca7b3e99\",                        [{\"hovertemplate\": \"cluster=#66CDAA<br>swsLengthM=%{x}<br>epochCapacity=%{y}<br>lengthEdaStorm=%{z}<extra></extra>\", \"legendgroup\": \"#66CDAA\", \"marker\": {\"color\": \"#636efa\", \"symbol\": \"circle\"}, \"mode\": \"markers\", \"name\": \"#66CDAA\", \"scene\": \"scene\", \"showlegend\": true, \"type\": \"scatter3d\", \"x\": [-1.00196, -1.00196, -1.00196, 0.18472, -1.00196, -0.26546, -0.6822199999999999, 0.35561, 0.054110000000000005, -0.81926, -0.1699, -0.19075999999999999, -0.72123, -1.00196, -1.00196, -0.15559, -1.00196, -1.00196, 0.8279700000000001, -0.78597, 0.9319799999999999, -1.00196, -1.00196, -0.78482, -0.79597, -0.38429, -0.18216], \"y\": [0.40971, 0.78562, 0.21035, 0.46834, 0.89338, 0.62888, 0.56139, 0.9040299999999999, -0.00897, -0.06654, 0.17517, 0.24479, 0.29112, 0.40697, 0.29463, -0.18135, 0.60837, 0.5421199999999999, 0.32379, 0.79532, 0.35274, -0.0898, 0.29027, -0.17013, 0.22299000000000002, 0.47907, -0.47056000000000003], \"z\": [0.49838999999999994, 0.30994, 0.03356, 0.6491399999999999, 0.84596, 0.02518, 0.7328899999999999, 0.14244, -0.037630000000000004, 0.36857, 0.32669000000000004, -0.1507, 0.07962000000000001, 0.97578, 0.27644, -0.23864000000000002, 0.45232, 0.44395, 0.49001000000000006, 0.5947, 0.44813000000000003, -0.19676, 0.10056, 0.058679999999999996, 0.08800000000000001, 0.41045, 0.79571]}, {\"hovertemplate\": \"cluster=#E3CF57<br>swsLengthM=%{x}<br>epochCapacity=%{y}<br>lengthEdaStorm=%{z}<extra></extra>\", \"legendgroup\": \"#E3CF57\", \"marker\": {\"color\": \"#EF553B\", \"symbol\": \"circle\"}, \"mode\": \"markers\", \"name\": \"#E3CF57\", \"scene\": \"scene\", \"showlegend\": true, \"type\": \"scatter3d\", \"x\": [0.9549, 0.9872799999999999, 0.5097, 1.36399, 0.8447600000000001, 2.17897, 1.36578, 1.70177, 1.7643099999999998, 0.63722, 2.5174, 0.44298999999999994, 1.56891, 0.7838, 0.90665, 1.91098, 2.1905099999999997, 1.6523, 2.14894, 1.46884, 0.35299, 0.97606, 1.43425], \"y\": [-0.70391, 0.35278000000000004, -1.12005, -0.9299299999999999, -0.34009, -0.80519, -0.35616, -0.9135700000000001, -0.58175, -0.79132, -0.93489, -0.7902, -1.0596299999999998, -1.07669, -1.0533, 0.13535, 0.2073, -0.5594600000000001, -0.40402, -0.54847, -0.69928, -0.37377, -0.57185], \"z\": [-0.68671, 0.47745, -1.02173, -1.00916, -0.37683, -0.9296, -0.45638999999999996, -0.9714700000000001, -0.25958000000000003, -0.97985, -0.87516, -0.8877200000000001, -1.08035, -1.0636, -1.08454, 0.32669000000000004, -0.09207, -0.61971, 0.30576, -0.56109, -0.5904, -0.36008, 0.14244]}, {\"hovertemplate\": \"cluster=#00008B<br>swsLengthM=%{x}<br>epochCapacity=%{y}<br>lengthEdaStorm=%{z}<extra></extra>\", \"legendgroup\": \"#00008B\", \"marker\": {\"color\": \"#00cc96\", \"symbol\": \"circle\"}, \"mode\": \"markers\", \"name\": \"#00008B\", \"scene\": \"scene\", \"showlegend\": true, \"type\": \"scatter3d\", \"x\": [-1.00196, -1.00196, -1.00196, -0.0057799999999999995, -0.57328, -1.00196, 0.05505, -1.00196, -0.02478, -1.00196, -0.6077, -0.58782, -0.52961, -0.52998, -0.58934, -0.79333, -1.00196, -1.00196, -1.00196, -1.00196, 0.02922, 0.34173000000000003, -1.00196, -1.00196, -0.8969, -0.71373, -1.00196, -1.00196, -1.00196, -1.00196, -0.71744, -0.07403], \"y\": [-0.94544, -1.02149, -0.9630700000000001, -0.78625, -0.8339799999999999, -1.10396, -0.8645200000000001, -0.7263, -0.99608, -0.9376700000000001, -0.84119, -0.16644, -0.96331, -0.46029, -0.45059, -0.83626, -0.5152899999999999, -0.9941399999999999, -1.0151700000000001, -0.74147, -0.8845700000000001, -0.8539100000000001, -0.9810399999999999, -0.81235, -0.42433999999999994, -0.8550200000000001, -0.78627, -0.9630700000000001, -0.7918, -0.86751, -0.37534, -0.8534], \"z\": [-1.0426600000000001, -1.01335, -0.5904, -0.8877200000000001, -0.79978, -0.9631, -0.9296, -0.73278, -0.9966, -0.96729, 0.29319, -0.6322800000000001, -1.01335, -0.40614, -0.52758, -0.90028, -0.36845, -1.00079, -1.00916, -0.82491, -1.00498, -0.87935, -0.9966, -1.00916, -0.5234, -0.81234, -0.87516, -0.5904, -0.9547200000000001, -0.94635, -0.37683, -0.94635]}, {\"hovertemplate\": \"cluster=#7FFF00<br>swsLengthM=%{x}<br>epochCapacity=%{y}<br>lengthEdaStorm=%{z}<extra></extra>\", \"legendgroup\": \"#7FFF00\", \"marker\": {\"color\": \"#ab63fa\", \"symbol\": \"circle\"}, \"mode\": \"markers\", \"name\": \"#7FFF00\", \"scene\": \"scene\", \"showlegend\": true, \"type\": \"scatter3d\", \"x\": [-0.61349, 0.9449700000000001, 0.6179100000000001, 2.18003, 1.26175, 0.75629, -1.00196, 2.4502200000000003, 1.2014799999999999, 0.74805, -1.00196, 0.6361, -1.00196, -0.38055, -0.3926, -1.00196, -0.8538399999999999, -0.12243], \"y\": [1.8199400000000001, 1.42963, 1.22341, 1.46438, 0.39077, 1.27851, 2.96042, 2.52346, 1.5428600000000001, 1.3732799999999998, 2.9631, 0.6098100000000001, 2.0310900000000003, 1.49546, 1.42236, 0.45995, 2.4117599999999997, 1.71514], \"z\": [1.7002400000000002, 0.88365, 0.18431, 1.19353, 0.88365, 1.28566, 2.92722, 1.70443, 0.77058, 1.4029200000000002, 3.24966, 0.62402, 1.28566, 1.23122, 1.43223, 2.7974, 1.13909, 1.0679]}],                        {\"legend\": {\"title\": {\"text\": \"cluster\"}, \"tracegroupgap\": 0}, \"margin\": {\"t\": 60}, \"scene\": {\"domain\": {\"x\": [0.0, 1.0], \"y\": [0.0, 1.0]}, \"xaxis\": {\"title\": {\"text\": \"swsLengthM\"}}, \"yaxis\": {\"title\": {\"text\": \"epochCapacity\"}}, \"zaxis\": {\"title\": {\"text\": \"lengthEdaStorm\"}}}, \"template\": {\"data\": {\"bar\": [{\"error_x\": {\"color\": \"#2a3f5f\"}, \"error_y\": {\"color\": \"#2a3f5f\"}, \"marker\": {\"line\": {\"color\": \"#E5ECF6\", \"width\": 0.5}}, \"type\": \"bar\"}], \"barpolar\": [{\"marker\": {\"line\": {\"color\": \"#E5ECF6\", \"width\": 0.5}}, \"type\": \"barpolar\"}], \"carpet\": [{\"aaxis\": {\"endlinecolor\": \"#2a3f5f\", \"gridcolor\": \"white\", \"linecolor\": \"white\", \"minorgridcolor\": \"white\", \"startlinecolor\": \"#2a3f5f\"}, \"baxis\": {\"endlinecolor\": \"#2a3f5f\", \"gridcolor\": \"white\", \"linecolor\": \"white\", \"minorgridcolor\": \"white\", \"startlinecolor\": \"#2a3f5f\"}, \"type\": \"carpet\"}], \"choropleth\": [{\"colorbar\": {\"outlinewidth\": 0, \"ticks\": \"\"}, \"type\": \"choropleth\"}], \"contour\": [{\"colorbar\": {\"outlinewidth\": 0, \"ticks\": \"\"}, \"colorscale\": [[0.0, \"#0d0887\"], [0.1111111111111111, \"#46039f\"], [0.2222222222222222, \"#7201a8\"], [0.3333333333333333, \"#9c179e\"], [0.4444444444444444, \"#bd3786\"], [0.5555555555555556, \"#d8576b\"], [0.6666666666666666, \"#ed7953\"], [0.7777777777777778, \"#fb9f3a\"], [0.8888888888888888, \"#fdca26\"], [1.0, \"#f0f921\"]], \"type\": \"contour\"}], \"contourcarpet\": [{\"colorbar\": {\"outlinewidth\": 0, \"ticks\": \"\"}, \"type\": \"contourcarpet\"}], \"heatmap\": [{\"colorbar\": {\"outlinewidth\": 0, \"ticks\": \"\"}, \"colorscale\": [[0.0, \"#0d0887\"], [0.1111111111111111, \"#46039f\"], [0.2222222222222222, \"#7201a8\"], [0.3333333333333333, \"#9c179e\"], [0.4444444444444444, \"#bd3786\"], [0.5555555555555556, \"#d8576b\"], [0.6666666666666666, \"#ed7953\"], [0.7777777777777778, \"#fb9f3a\"], [0.8888888888888888, \"#fdca26\"], [1.0, \"#f0f921\"]], \"type\": \"heatmap\"}], \"heatmapgl\": [{\"colorbar\": {\"outlinewidth\": 0, \"ticks\": \"\"}, \"colorscale\": [[0.0, \"#0d0887\"], [0.1111111111111111, \"#46039f\"], [0.2222222222222222, \"#7201a8\"], [0.3333333333333333, \"#9c179e\"], [0.4444444444444444, \"#bd3786\"], [0.5555555555555556, \"#d8576b\"], [0.6666666666666666, \"#ed7953\"], [0.7777777777777778, \"#fb9f3a\"], [0.8888888888888888, \"#fdca26\"], [1.0, \"#f0f921\"]], \"type\": \"heatmapgl\"}], \"histogram\": [{\"marker\": {\"colorbar\": {\"outlinewidth\": 0, \"ticks\": \"\"}}, \"type\": \"histogram\"}], \"histogram2d\": [{\"colorbar\": {\"outlinewidth\": 0, \"ticks\": \"\"}, \"colorscale\": [[0.0, \"#0d0887\"], [0.1111111111111111, \"#46039f\"], [0.2222222222222222, \"#7201a8\"], [0.3333333333333333, \"#9c179e\"], [0.4444444444444444, \"#bd3786\"], [0.5555555555555556, \"#d8576b\"], [0.6666666666666666, \"#ed7953\"], [0.7777777777777778, \"#fb9f3a\"], [0.8888888888888888, \"#fdca26\"], [1.0, \"#f0f921\"]], \"type\": \"histogram2d\"}], \"histogram2dcontour\": [{\"colorbar\": {\"outlinewidth\": 0, \"ticks\": \"\"}, \"colorscale\": [[0.0, \"#0d0887\"], [0.1111111111111111, \"#46039f\"], [0.2222222222222222, \"#7201a8\"], [0.3333333333333333, \"#9c179e\"], [0.4444444444444444, \"#bd3786\"], [0.5555555555555556, \"#d8576b\"], [0.6666666666666666, \"#ed7953\"], [0.7777777777777778, \"#fb9f3a\"], [0.8888888888888888, \"#fdca26\"], [1.0, \"#f0f921\"]], \"type\": \"histogram2dcontour\"}], \"mesh3d\": [{\"colorbar\": {\"outlinewidth\": 0, \"ticks\": \"\"}, \"type\": \"mesh3d\"}], \"parcoords\": [{\"line\": {\"colorbar\": {\"outlinewidth\": 0, \"ticks\": \"\"}}, \"type\": \"parcoords\"}], \"pie\": [{\"automargin\": true, \"type\": \"pie\"}], \"scatter\": [{\"marker\": {\"colorbar\": {\"outlinewidth\": 0, \"ticks\": \"\"}}, \"type\": \"scatter\"}], \"scatter3d\": [{\"line\": {\"colorbar\": {\"outlinewidth\": 0, \"ticks\": \"\"}}, \"marker\": {\"colorbar\": {\"outlinewidth\": 0, \"ticks\": \"\"}}, \"type\": \"scatter3d\"}], \"scattercarpet\": [{\"marker\": {\"colorbar\": {\"outlinewidth\": 0, \"ticks\": \"\"}}, \"type\": \"scattercarpet\"}], \"scattergeo\": [{\"marker\": {\"colorbar\": {\"outlinewidth\": 0, \"ticks\": \"\"}}, \"type\": \"scattergeo\"}], \"scattergl\": [{\"marker\": {\"colorbar\": {\"outlinewidth\": 0, \"ticks\": \"\"}}, \"type\": \"scattergl\"}], \"scattermapbox\": [{\"marker\": {\"colorbar\": {\"outlinewidth\": 0, \"ticks\": \"\"}}, \"type\": \"scattermapbox\"}], \"scatterpolar\": [{\"marker\": {\"colorbar\": {\"outlinewidth\": 0, \"ticks\": \"\"}}, \"type\": \"scatterpolar\"}], \"scatterpolargl\": [{\"marker\": {\"colorbar\": {\"outlinewidth\": 0, \"ticks\": \"\"}}, \"type\": \"scatterpolargl\"}], \"scatterternary\": [{\"marker\": {\"colorbar\": {\"outlinewidth\": 0, \"ticks\": \"\"}}, \"type\": \"scatterternary\"}], \"surface\": [{\"colorbar\": {\"outlinewidth\": 0, \"ticks\": \"\"}, \"colorscale\": [[0.0, \"#0d0887\"], [0.1111111111111111, \"#46039f\"], [0.2222222222222222, \"#7201a8\"], [0.3333333333333333, \"#9c179e\"], [0.4444444444444444, \"#bd3786\"], [0.5555555555555556, \"#d8576b\"], [0.6666666666666666, \"#ed7953\"], [0.7777777777777778, \"#fb9f3a\"], [0.8888888888888888, \"#fdca26\"], [1.0, \"#f0f921\"]], \"type\": \"surface\"}], \"table\": [{\"cells\": {\"fill\": {\"color\": \"#EBF0F8\"}, \"line\": {\"color\": \"white\"}}, \"header\": {\"fill\": {\"color\": \"#C8D4E3\"}, \"line\": {\"color\": \"white\"}}, \"type\": \"table\"}]}, \"layout\": {\"annotationdefaults\": {\"arrowcolor\": \"#2a3f5f\", \"arrowhead\": 0, \"arrowwidth\": 1}, \"autotypenumbers\": \"strict\", \"coloraxis\": {\"colorbar\": {\"outlinewidth\": 0, \"ticks\": \"\"}}, \"colorscale\": {\"diverging\": [[0, \"#8e0152\"], [0.1, \"#c51b7d\"], [0.2, \"#de77ae\"], [0.3, \"#f1b6da\"], [0.4, \"#fde0ef\"], [0.5, \"#f7f7f7\"], [0.6, \"#e6f5d0\"], [0.7, \"#b8e186\"], [0.8, \"#7fbc41\"], [0.9, \"#4d9221\"], [1, \"#276419\"]], \"sequential\": [[0.0, \"#0d0887\"], [0.1111111111111111, \"#46039f\"], [0.2222222222222222, \"#7201a8\"], [0.3333333333333333, \"#9c179e\"], [0.4444444444444444, \"#bd3786\"], [0.5555555555555556, \"#d8576b\"], [0.6666666666666666, \"#ed7953\"], [0.7777777777777778, \"#fb9f3a\"], [0.8888888888888888, \"#fdca26\"], [1.0, \"#f0f921\"]], \"sequentialminus\": [[0.0, \"#0d0887\"], [0.1111111111111111, \"#46039f\"], [0.2222222222222222, \"#7201a8\"], [0.3333333333333333, \"#9c179e\"], [0.4444444444444444, \"#bd3786\"], [0.5555555555555556, \"#d8576b\"], [0.6666666666666666, \"#ed7953\"], [0.7777777777777778, \"#fb9f3a\"], [0.8888888888888888, \"#fdca26\"], [1.0, \"#f0f921\"]]}, \"colorway\": [\"#636efa\", \"#EF553B\", \"#00cc96\", \"#ab63fa\", \"#FFA15A\", \"#19d3f3\", \"#FF6692\", \"#B6E880\", \"#FF97FF\", \"#FECB52\"], \"font\": {\"color\": \"#2a3f5f\"}, \"geo\": {\"bgcolor\": \"white\", \"lakecolor\": \"white\", \"landcolor\": \"#E5ECF6\", \"showlakes\": true, \"showland\": true, \"subunitcolor\": \"white\"}, \"hoverlabel\": {\"align\": \"left\"}, \"hovermode\": \"closest\", \"mapbox\": {\"style\": \"light\"}, \"paper_bgcolor\": \"white\", \"plot_bgcolor\": \"#E5ECF6\", \"polar\": {\"angularaxis\": {\"gridcolor\": \"white\", \"linecolor\": \"white\", \"ticks\": \"\"}, \"bgcolor\": \"#E5ECF6\", \"radialaxis\": {\"gridcolor\": \"white\", \"linecolor\": \"white\", \"ticks\": \"\"}}, \"scene\": {\"xaxis\": {\"backgroundcolor\": \"#E5ECF6\", \"gridcolor\": \"white\", \"gridwidth\": 2, \"linecolor\": \"white\", \"showbackground\": true, \"ticks\": \"\", \"zerolinecolor\": \"white\"}, \"yaxis\": {\"backgroundcolor\": \"#E5ECF6\", \"gridcolor\": \"white\", \"gridwidth\": 2, \"linecolor\": \"white\", \"showbackground\": true, \"ticks\": \"\", \"zerolinecolor\": \"white\"}, \"zaxis\": {\"backgroundcolor\": \"#E5ECF6\", \"gridcolor\": \"white\", \"gridwidth\": 2, \"linecolor\": \"white\", \"showbackground\": true, \"ticks\": \"\", \"zerolinecolor\": \"white\"}}, \"shapedefaults\": {\"line\": {\"color\": \"#2a3f5f\"}}, \"ternary\": {\"aaxis\": {\"gridcolor\": \"white\", \"linecolor\": \"white\", \"ticks\": \"\"}, \"baxis\": {\"gridcolor\": \"white\", \"linecolor\": \"white\", \"ticks\": \"\"}, \"bgcolor\": \"#E5ECF6\", \"caxis\": {\"gridcolor\": \"white\", \"linecolor\": \"white\", \"ticks\": \"\"}}, \"title\": {\"x\": 0.05}, \"xaxis\": {\"automargin\": true, \"gridcolor\": \"white\", \"linecolor\": \"white\", \"ticks\": \"\", \"title\": {\"standoff\": 15}, \"zerolinecolor\": \"white\", \"zerolinewidth\": 2}, \"yaxis\": {\"automargin\": true, \"gridcolor\": \"white\", \"linecolor\": \"white\", \"ticks\": \"\", \"title\": {\"standoff\": 15}, \"zerolinecolor\": \"white\", \"zerolinewidth\": 2}}}},                        {\"responsive\": true}                    ).then(function(){\n",
       "                            \n",
       "var gd = document.getElementById('8c04d6e1-4781-4962-94d0-2db3ca7b3e99');\n",
       "var x = new MutationObserver(function (mutations, observer) {{\n",
       "        var display = window.getComputedStyle(gd).display;\n",
       "        if (!display || display === 'none') {{\n",
       "            console.log([gd, 'removed!']);\n",
       "            Plotly.purge(gd);\n",
       "            observer.disconnect();\n",
       "        }}\n",
       "}});\n",
       "\n",
       "// Listen for the removal of the full notebook cells\n",
       "var notebookContainer = gd.closest('#notebook-container');\n",
       "if (notebookContainer) {{\n",
       "    x.observe(notebookContainer, {childList: true});\n",
       "}}\n",
       "\n",
       "// Listen for the clearing of the current output cell\n",
       "var outputEl = gd.closest('.output');\n",
       "if (outputEl) {{\n",
       "    x.observe(outputEl, {childList: true});\n",
       "}}\n",
       "\n",
       "                        })                };                });            </script>        </div>"
      ]
     },
     "metadata": {},
     "output_type": "display_data"
    }
   ],
   "source": [
    "px.scatter_3d(final_cluster_df, x='swsLengthM', y='epochCapacity', z='lengthEdaStorm',color='cluster')"
   ]
  },
  {
   "cell_type": "code",
   "execution_count": 50,
   "metadata": {},
   "outputs": [
    {
     "data": {
      "text/plain": [
       "[0.616]"
      ]
     },
     "execution_count": 50,
     "metadata": {},
     "output_type": "execute_result"
    }
   ],
   "source": [
    "Dunn_indices"
   ]
  },
  {
   "cell_type": "markdown",
   "metadata": {},
   "source": [
    "- Creating a cluster with the features `['swsLengthM', 'epochCapacity','lengthEdaStorm']` and `sample size 50`"
   ]
  },
  {
   "cell_type": "code",
   "execution_count": 51,
   "metadata": {},
   "outputs": [],
   "source": [
    "features = df[['swsLengthM', 'epochCapacity','lengthEdaStorm']].sample(50)\n",
    "Dunn_indices = []\n",
    "for i in range(4,5):\n",
    "    K_means = K_Means_clustering(k = i)\n",
    "    K_means.fit(np.array(features))\n",
    "    \n",
    "    final_cluster_df = pd.DataFrame(columns = ['X','Y','Z','cluster'])\n",
    "    for j in range(i):\n",
    "        \n",
    "        swsLengthM = [fea[0] for fea in K_means.clusters[j]]\n",
    "        epochCapacity = [fea[1] for fea in K_means.clusters[j]]\n",
    "        lengthEdaStorm = [fea[2] for fea in K_means.clusters[j]]\n",
    "\n",
    "        df_cluster = pd.DataFrame([swsLengthM,epochCapacity,lengthEdaStorm], \n",
    "                                  index = ['swsLengthM','epochCapacity','lengthEdaStorm']).transpose()\n",
    "        df_cluster['cluster'] = j\n",
    "        \n",
    "        final_cluster_df = final_cluster_df.append(df_cluster)\n",
    "        if final_cluster_df.shape[0] == features.shape[0] :\n",
    "            final_cluster_df.cluster = final_cluster_df.cluster.map(color)   \n",
    "            #Calculating Dunn index\n",
    "            index = Dunn_Index(K_means.clusters, K_means.centroids)\n",
    "            Dunn_indices.append(index)"
   ]
  },
  {
   "cell_type": "code",
   "execution_count": 52,
   "metadata": {},
   "outputs": [
    {
     "data": {
      "application/vnd.plotly.v1+json": {
       "config": {
        "plotlyServerURL": "https://plot.ly"
       },
       "data": [
        {
         "hovertemplate": "cluster=#66CDAA<br>swsLengthM=%{x}<br>epochCapacity=%{y}<br>lengthEdaStorm=%{z}<extra></extra>",
         "legendgroup": "#66CDAA",
         "marker": {
          "color": "#636efa",
          "symbol": "circle"
         },
         "mode": "markers",
         "name": "#66CDAA",
         "scene": "scene",
         "showlegend": true,
         "type": "scatter3d",
         "x": [
          2.17897,
          0.44298999999999994,
          0.90665,
          1.46884,
          1.0457299999999998,
          1.61816,
          0.9319799999999999,
          0.8279700000000001,
          0.9989299999999999,
          0.8889799999999999,
          0.8447600000000001
         ],
         "y": [
          -0.80519,
          -0.7902,
          -1.0533,
          -0.54847,
          0.34007,
          -0.8604200000000001,
          0.35274,
          0.32379,
          -0.13185,
          0.10862000000000001,
          -0.34009
         ],
         "z": [
          -0.9296,
          -0.8877200000000001,
          -1.08454,
          -0.56109,
          -0.07951,
          -0.85841,
          0.44813000000000003,
          0.49001000000000006,
          -0.18839,
          0.20525,
          -0.37683
         ]
        },
        {
         "hovertemplate": "cluster=#E3CF57<br>swsLengthM=%{x}<br>epochCapacity=%{y}<br>lengthEdaStorm=%{z}<extra></extra>",
         "legendgroup": "#E3CF57",
         "marker": {
          "color": "#EF553B",
          "symbol": "circle"
         },
         "mode": "markers",
         "name": "#E3CF57",
         "scene": "scene",
         "showlegend": true,
         "type": "scatter3d",
         "x": [
          -1.00196,
          -1.00196,
          -0.78597,
          -0.19075999999999999,
          -0.81926,
          -1.00196,
          0.18472,
          -1.00196,
          -0.79597,
          -0.6822199999999999,
          -0.26546,
          -1.00196,
          -1.00196,
          -1.00196
         ],
         "y": [
          0.42541,
          0.29027,
          0.79532,
          0.24479,
          -0.06654,
          0.23926999999999998,
          0.46834,
          0.29463,
          0.22299000000000002,
          0.56139,
          0.62888,
          0.78562,
          0.5263399999999999,
          0.89338
         ],
         "z": [
          1.01347,
          0.10056,
          0.5947,
          -0.1507,
          0.36857,
          -0.10463,
          0.6491399999999999,
          0.27644,
          0.08800000000000001,
          0.7328899999999999,
          0.02518,
          0.30994,
          1.18516,
          0.84596
         ]
        },
        {
         "hovertemplate": "cluster=#00008B<br>swsLengthM=%{x}<br>epochCapacity=%{y}<br>lengthEdaStorm=%{z}<extra></extra>",
         "legendgroup": "#00008B",
         "marker": {
          "color": "#00cc96",
          "symbol": "circle"
         },
         "mode": "markers",
         "name": "#00008B",
         "scene": "scene",
         "showlegend": true,
         "type": "scatter3d",
         "x": [
          0.33133,
          -0.3461,
          -1.00196,
          -0.02478,
          -1.00196,
          0.18222,
          -1.00196,
          -0.37568,
          -1.00196,
          -1.00196,
          0.1706,
          -1.00196,
          -0.52998,
          0.34173000000000003,
          -1.00196,
          -0.0057799999999999995,
          -1.00196,
          -1.00196
         ],
         "y": [
          -1.02714,
          -0.513,
          -0.9810399999999999,
          -0.99608,
          -0.7918,
          -0.85977,
          -0.9376700000000001,
          -0.8801100000000001,
          -0.94544,
          -0.60485,
          -1.0649,
          -1.0151700000000001,
          -0.46029,
          -0.8539100000000001,
          -0.9630700000000001,
          -0.78625,
          -1.10396,
          -0.7731899999999999
         ],
         "z": [
          -1.08454,
          -0.41452,
          -0.9966,
          -0.9966,
          -0.9547200000000001,
          -0.9296,
          -0.96729,
          -0.9966,
          -1.0426600000000001,
          -0.57365,
          -1.0426600000000001,
          -1.00916,
          -0.40614,
          -0.87935,
          -0.5904,
          -0.8877200000000001,
          -0.9631,
          -0.92122
         ]
        },
        {
         "hovertemplate": "cluster=#7FFF00<br>swsLengthM=%{x}<br>epochCapacity=%{y}<br>lengthEdaStorm=%{z}<extra></extra>",
         "legendgroup": "#7FFF00",
         "marker": {
          "color": "#ab63fa",
          "symbol": "circle"
         },
         "mode": "markers",
         "name": "#7FFF00",
         "scene": "scene",
         "showlegend": true,
         "type": "scatter3d",
         "x": [
          0.75629,
          0.74805,
          -0.12243,
          -1.00196,
          1.2375399999999999,
          0.9449700000000001,
          -1.00196
         ],
         "y": [
          1.27851,
          1.3732799999999998,
          1.71514,
          0.45995,
          1.4848700000000001,
          1.42963,
          2.96042
         ],
         "z": [
          1.28566,
          1.4029200000000002,
          1.0679,
          2.7974,
          1.53273,
          0.88365,
          2.92722
         ]
        }
       ],
       "layout": {
        "legend": {
         "title": {
          "text": "cluster"
         },
         "tracegroupgap": 0
        },
        "margin": {
         "t": 60
        },
        "scene": {
         "domain": {
          "x": [
           0,
           1
          ],
          "y": [
           0,
           1
          ]
         },
         "xaxis": {
          "title": {
           "text": "swsLengthM"
          }
         },
         "yaxis": {
          "title": {
           "text": "epochCapacity"
          }
         },
         "zaxis": {
          "title": {
           "text": "lengthEdaStorm"
          }
         }
        },
        "template": {
         "data": {
          "bar": [
           {
            "error_x": {
             "color": "#2a3f5f"
            },
            "error_y": {
             "color": "#2a3f5f"
            },
            "marker": {
             "line": {
              "color": "#E5ECF6",
              "width": 0.5
             }
            },
            "type": "bar"
           }
          ],
          "barpolar": [
           {
            "marker": {
             "line": {
              "color": "#E5ECF6",
              "width": 0.5
             }
            },
            "type": "barpolar"
           }
          ],
          "carpet": [
           {
            "aaxis": {
             "endlinecolor": "#2a3f5f",
             "gridcolor": "white",
             "linecolor": "white",
             "minorgridcolor": "white",
             "startlinecolor": "#2a3f5f"
            },
            "baxis": {
             "endlinecolor": "#2a3f5f",
             "gridcolor": "white",
             "linecolor": "white",
             "minorgridcolor": "white",
             "startlinecolor": "#2a3f5f"
            },
            "type": "carpet"
           }
          ],
          "choropleth": [
           {
            "colorbar": {
             "outlinewidth": 0,
             "ticks": ""
            },
            "type": "choropleth"
           }
          ],
          "contour": [
           {
            "colorbar": {
             "outlinewidth": 0,
             "ticks": ""
            },
            "colorscale": [
             [
              0,
              "#0d0887"
             ],
             [
              0.1111111111111111,
              "#46039f"
             ],
             [
              0.2222222222222222,
              "#7201a8"
             ],
             [
              0.3333333333333333,
              "#9c179e"
             ],
             [
              0.4444444444444444,
              "#bd3786"
             ],
             [
              0.5555555555555556,
              "#d8576b"
             ],
             [
              0.6666666666666666,
              "#ed7953"
             ],
             [
              0.7777777777777778,
              "#fb9f3a"
             ],
             [
              0.8888888888888888,
              "#fdca26"
             ],
             [
              1,
              "#f0f921"
             ]
            ],
            "type": "contour"
           }
          ],
          "contourcarpet": [
           {
            "colorbar": {
             "outlinewidth": 0,
             "ticks": ""
            },
            "type": "contourcarpet"
           }
          ],
          "heatmap": [
           {
            "colorbar": {
             "outlinewidth": 0,
             "ticks": ""
            },
            "colorscale": [
             [
              0,
              "#0d0887"
             ],
             [
              0.1111111111111111,
              "#46039f"
             ],
             [
              0.2222222222222222,
              "#7201a8"
             ],
             [
              0.3333333333333333,
              "#9c179e"
             ],
             [
              0.4444444444444444,
              "#bd3786"
             ],
             [
              0.5555555555555556,
              "#d8576b"
             ],
             [
              0.6666666666666666,
              "#ed7953"
             ],
             [
              0.7777777777777778,
              "#fb9f3a"
             ],
             [
              0.8888888888888888,
              "#fdca26"
             ],
             [
              1,
              "#f0f921"
             ]
            ],
            "type": "heatmap"
           }
          ],
          "heatmapgl": [
           {
            "colorbar": {
             "outlinewidth": 0,
             "ticks": ""
            },
            "colorscale": [
             [
              0,
              "#0d0887"
             ],
             [
              0.1111111111111111,
              "#46039f"
             ],
             [
              0.2222222222222222,
              "#7201a8"
             ],
             [
              0.3333333333333333,
              "#9c179e"
             ],
             [
              0.4444444444444444,
              "#bd3786"
             ],
             [
              0.5555555555555556,
              "#d8576b"
             ],
             [
              0.6666666666666666,
              "#ed7953"
             ],
             [
              0.7777777777777778,
              "#fb9f3a"
             ],
             [
              0.8888888888888888,
              "#fdca26"
             ],
             [
              1,
              "#f0f921"
             ]
            ],
            "type": "heatmapgl"
           }
          ],
          "histogram": [
           {
            "marker": {
             "colorbar": {
              "outlinewidth": 0,
              "ticks": ""
             }
            },
            "type": "histogram"
           }
          ],
          "histogram2d": [
           {
            "colorbar": {
             "outlinewidth": 0,
             "ticks": ""
            },
            "colorscale": [
             [
              0,
              "#0d0887"
             ],
             [
              0.1111111111111111,
              "#46039f"
             ],
             [
              0.2222222222222222,
              "#7201a8"
             ],
             [
              0.3333333333333333,
              "#9c179e"
             ],
             [
              0.4444444444444444,
              "#bd3786"
             ],
             [
              0.5555555555555556,
              "#d8576b"
             ],
             [
              0.6666666666666666,
              "#ed7953"
             ],
             [
              0.7777777777777778,
              "#fb9f3a"
             ],
             [
              0.8888888888888888,
              "#fdca26"
             ],
             [
              1,
              "#f0f921"
             ]
            ],
            "type": "histogram2d"
           }
          ],
          "histogram2dcontour": [
           {
            "colorbar": {
             "outlinewidth": 0,
             "ticks": ""
            },
            "colorscale": [
             [
              0,
              "#0d0887"
             ],
             [
              0.1111111111111111,
              "#46039f"
             ],
             [
              0.2222222222222222,
              "#7201a8"
             ],
             [
              0.3333333333333333,
              "#9c179e"
             ],
             [
              0.4444444444444444,
              "#bd3786"
             ],
             [
              0.5555555555555556,
              "#d8576b"
             ],
             [
              0.6666666666666666,
              "#ed7953"
             ],
             [
              0.7777777777777778,
              "#fb9f3a"
             ],
             [
              0.8888888888888888,
              "#fdca26"
             ],
             [
              1,
              "#f0f921"
             ]
            ],
            "type": "histogram2dcontour"
           }
          ],
          "mesh3d": [
           {
            "colorbar": {
             "outlinewidth": 0,
             "ticks": ""
            },
            "type": "mesh3d"
           }
          ],
          "parcoords": [
           {
            "line": {
             "colorbar": {
              "outlinewidth": 0,
              "ticks": ""
             }
            },
            "type": "parcoords"
           }
          ],
          "pie": [
           {
            "automargin": true,
            "type": "pie"
           }
          ],
          "scatter": [
           {
            "marker": {
             "colorbar": {
              "outlinewidth": 0,
              "ticks": ""
             }
            },
            "type": "scatter"
           }
          ],
          "scatter3d": [
           {
            "line": {
             "colorbar": {
              "outlinewidth": 0,
              "ticks": ""
             }
            },
            "marker": {
             "colorbar": {
              "outlinewidth": 0,
              "ticks": ""
             }
            },
            "type": "scatter3d"
           }
          ],
          "scattercarpet": [
           {
            "marker": {
             "colorbar": {
              "outlinewidth": 0,
              "ticks": ""
             }
            },
            "type": "scattercarpet"
           }
          ],
          "scattergeo": [
           {
            "marker": {
             "colorbar": {
              "outlinewidth": 0,
              "ticks": ""
             }
            },
            "type": "scattergeo"
           }
          ],
          "scattergl": [
           {
            "marker": {
             "colorbar": {
              "outlinewidth": 0,
              "ticks": ""
             }
            },
            "type": "scattergl"
           }
          ],
          "scattermapbox": [
           {
            "marker": {
             "colorbar": {
              "outlinewidth": 0,
              "ticks": ""
             }
            },
            "type": "scattermapbox"
           }
          ],
          "scatterpolar": [
           {
            "marker": {
             "colorbar": {
              "outlinewidth": 0,
              "ticks": ""
             }
            },
            "type": "scatterpolar"
           }
          ],
          "scatterpolargl": [
           {
            "marker": {
             "colorbar": {
              "outlinewidth": 0,
              "ticks": ""
             }
            },
            "type": "scatterpolargl"
           }
          ],
          "scatterternary": [
           {
            "marker": {
             "colorbar": {
              "outlinewidth": 0,
              "ticks": ""
             }
            },
            "type": "scatterternary"
           }
          ],
          "surface": [
           {
            "colorbar": {
             "outlinewidth": 0,
             "ticks": ""
            },
            "colorscale": [
             [
              0,
              "#0d0887"
             ],
             [
              0.1111111111111111,
              "#46039f"
             ],
             [
              0.2222222222222222,
              "#7201a8"
             ],
             [
              0.3333333333333333,
              "#9c179e"
             ],
             [
              0.4444444444444444,
              "#bd3786"
             ],
             [
              0.5555555555555556,
              "#d8576b"
             ],
             [
              0.6666666666666666,
              "#ed7953"
             ],
             [
              0.7777777777777778,
              "#fb9f3a"
             ],
             [
              0.8888888888888888,
              "#fdca26"
             ],
             [
              1,
              "#f0f921"
             ]
            ],
            "type": "surface"
           }
          ],
          "table": [
           {
            "cells": {
             "fill": {
              "color": "#EBF0F8"
             },
             "line": {
              "color": "white"
             }
            },
            "header": {
             "fill": {
              "color": "#C8D4E3"
             },
             "line": {
              "color": "white"
             }
            },
            "type": "table"
           }
          ]
         },
         "layout": {
          "annotationdefaults": {
           "arrowcolor": "#2a3f5f",
           "arrowhead": 0,
           "arrowwidth": 1
          },
          "autotypenumbers": "strict",
          "coloraxis": {
           "colorbar": {
            "outlinewidth": 0,
            "ticks": ""
           }
          },
          "colorscale": {
           "diverging": [
            [
             0,
             "#8e0152"
            ],
            [
             0.1,
             "#c51b7d"
            ],
            [
             0.2,
             "#de77ae"
            ],
            [
             0.3,
             "#f1b6da"
            ],
            [
             0.4,
             "#fde0ef"
            ],
            [
             0.5,
             "#f7f7f7"
            ],
            [
             0.6,
             "#e6f5d0"
            ],
            [
             0.7,
             "#b8e186"
            ],
            [
             0.8,
             "#7fbc41"
            ],
            [
             0.9,
             "#4d9221"
            ],
            [
             1,
             "#276419"
            ]
           ],
           "sequential": [
            [
             0,
             "#0d0887"
            ],
            [
             0.1111111111111111,
             "#46039f"
            ],
            [
             0.2222222222222222,
             "#7201a8"
            ],
            [
             0.3333333333333333,
             "#9c179e"
            ],
            [
             0.4444444444444444,
             "#bd3786"
            ],
            [
             0.5555555555555556,
             "#d8576b"
            ],
            [
             0.6666666666666666,
             "#ed7953"
            ],
            [
             0.7777777777777778,
             "#fb9f3a"
            ],
            [
             0.8888888888888888,
             "#fdca26"
            ],
            [
             1,
             "#f0f921"
            ]
           ],
           "sequentialminus": [
            [
             0,
             "#0d0887"
            ],
            [
             0.1111111111111111,
             "#46039f"
            ],
            [
             0.2222222222222222,
             "#7201a8"
            ],
            [
             0.3333333333333333,
             "#9c179e"
            ],
            [
             0.4444444444444444,
             "#bd3786"
            ],
            [
             0.5555555555555556,
             "#d8576b"
            ],
            [
             0.6666666666666666,
             "#ed7953"
            ],
            [
             0.7777777777777778,
             "#fb9f3a"
            ],
            [
             0.8888888888888888,
             "#fdca26"
            ],
            [
             1,
             "#f0f921"
            ]
           ]
          },
          "colorway": [
           "#636efa",
           "#EF553B",
           "#00cc96",
           "#ab63fa",
           "#FFA15A",
           "#19d3f3",
           "#FF6692",
           "#B6E880",
           "#FF97FF",
           "#FECB52"
          ],
          "font": {
           "color": "#2a3f5f"
          },
          "geo": {
           "bgcolor": "white",
           "lakecolor": "white",
           "landcolor": "#E5ECF6",
           "showlakes": true,
           "showland": true,
           "subunitcolor": "white"
          },
          "hoverlabel": {
           "align": "left"
          },
          "hovermode": "closest",
          "mapbox": {
           "style": "light"
          },
          "paper_bgcolor": "white",
          "plot_bgcolor": "#E5ECF6",
          "polar": {
           "angularaxis": {
            "gridcolor": "white",
            "linecolor": "white",
            "ticks": ""
           },
           "bgcolor": "#E5ECF6",
           "radialaxis": {
            "gridcolor": "white",
            "linecolor": "white",
            "ticks": ""
           }
          },
          "scene": {
           "xaxis": {
            "backgroundcolor": "#E5ECF6",
            "gridcolor": "white",
            "gridwidth": 2,
            "linecolor": "white",
            "showbackground": true,
            "ticks": "",
            "zerolinecolor": "white"
           },
           "yaxis": {
            "backgroundcolor": "#E5ECF6",
            "gridcolor": "white",
            "gridwidth": 2,
            "linecolor": "white",
            "showbackground": true,
            "ticks": "",
            "zerolinecolor": "white"
           },
           "zaxis": {
            "backgroundcolor": "#E5ECF6",
            "gridcolor": "white",
            "gridwidth": 2,
            "linecolor": "white",
            "showbackground": true,
            "ticks": "",
            "zerolinecolor": "white"
           }
          },
          "shapedefaults": {
           "line": {
            "color": "#2a3f5f"
           }
          },
          "ternary": {
           "aaxis": {
            "gridcolor": "white",
            "linecolor": "white",
            "ticks": ""
           },
           "baxis": {
            "gridcolor": "white",
            "linecolor": "white",
            "ticks": ""
           },
           "bgcolor": "#E5ECF6",
           "caxis": {
            "gridcolor": "white",
            "linecolor": "white",
            "ticks": ""
           }
          },
          "title": {
           "x": 0.05
          },
          "xaxis": {
           "automargin": true,
           "gridcolor": "white",
           "linecolor": "white",
           "ticks": "",
           "title": {
            "standoff": 15
           },
           "zerolinecolor": "white",
           "zerolinewidth": 2
          },
          "yaxis": {
           "automargin": true,
           "gridcolor": "white",
           "linecolor": "white",
           "ticks": "",
           "title": {
            "standoff": 15
           },
           "zerolinecolor": "white",
           "zerolinewidth": 2
          }
         }
        }
       }
      },
      "text/html": [
       "<div>                            <div id=\"881cbc2d-2074-41fd-9f41-804d8e37a14a\" class=\"plotly-graph-div\" style=\"height:525px; width:100%;\"></div>            <script type=\"text/javascript\">                require([\"plotly\"], function(Plotly) {                    window.PLOTLYENV=window.PLOTLYENV || {};                                    if (document.getElementById(\"881cbc2d-2074-41fd-9f41-804d8e37a14a\")) {                    Plotly.newPlot(                        \"881cbc2d-2074-41fd-9f41-804d8e37a14a\",                        [{\"hovertemplate\": \"cluster=#66CDAA<br>swsLengthM=%{x}<br>epochCapacity=%{y}<br>lengthEdaStorm=%{z}<extra></extra>\", \"legendgroup\": \"#66CDAA\", \"marker\": {\"color\": \"#636efa\", \"symbol\": \"circle\"}, \"mode\": \"markers\", \"name\": \"#66CDAA\", \"scene\": \"scene\", \"showlegend\": true, \"type\": \"scatter3d\", \"x\": [2.17897, 0.44298999999999994, 0.90665, 1.46884, 1.0457299999999998, 1.61816, 0.9319799999999999, 0.8279700000000001, 0.9989299999999999, 0.8889799999999999, 0.8447600000000001], \"y\": [-0.80519, -0.7902, -1.0533, -0.54847, 0.34007, -0.8604200000000001, 0.35274, 0.32379, -0.13185, 0.10862000000000001, -0.34009], \"z\": [-0.9296, -0.8877200000000001, -1.08454, -0.56109, -0.07951, -0.85841, 0.44813000000000003, 0.49001000000000006, -0.18839, 0.20525, -0.37683]}, {\"hovertemplate\": \"cluster=#E3CF57<br>swsLengthM=%{x}<br>epochCapacity=%{y}<br>lengthEdaStorm=%{z}<extra></extra>\", \"legendgroup\": \"#E3CF57\", \"marker\": {\"color\": \"#EF553B\", \"symbol\": \"circle\"}, \"mode\": \"markers\", \"name\": \"#E3CF57\", \"scene\": \"scene\", \"showlegend\": true, \"type\": \"scatter3d\", \"x\": [-1.00196, -1.00196, -0.78597, -0.19075999999999999, -0.81926, -1.00196, 0.18472, -1.00196, -0.79597, -0.6822199999999999, -0.26546, -1.00196, -1.00196, -1.00196], \"y\": [0.42541, 0.29027, 0.79532, 0.24479, -0.06654, 0.23926999999999998, 0.46834, 0.29463, 0.22299000000000002, 0.56139, 0.62888, 0.78562, 0.5263399999999999, 0.89338], \"z\": [1.01347, 0.10056, 0.5947, -0.1507, 0.36857, -0.10463, 0.6491399999999999, 0.27644, 0.08800000000000001, 0.7328899999999999, 0.02518, 0.30994, 1.18516, 0.84596]}, {\"hovertemplate\": \"cluster=#00008B<br>swsLengthM=%{x}<br>epochCapacity=%{y}<br>lengthEdaStorm=%{z}<extra></extra>\", \"legendgroup\": \"#00008B\", \"marker\": {\"color\": \"#00cc96\", \"symbol\": \"circle\"}, \"mode\": \"markers\", \"name\": \"#00008B\", \"scene\": \"scene\", \"showlegend\": true, \"type\": \"scatter3d\", \"x\": [0.33133, -0.3461, -1.00196, -0.02478, -1.00196, 0.18222, -1.00196, -0.37568, -1.00196, -1.00196, 0.1706, -1.00196, -0.52998, 0.34173000000000003, -1.00196, -0.0057799999999999995, -1.00196, -1.00196], \"y\": [-1.02714, -0.513, -0.9810399999999999, -0.99608, -0.7918, -0.85977, -0.9376700000000001, -0.8801100000000001, -0.94544, -0.60485, -1.0649, -1.0151700000000001, -0.46029, -0.8539100000000001, -0.9630700000000001, -0.78625, -1.10396, -0.7731899999999999], \"z\": [-1.08454, -0.41452, -0.9966, -0.9966, -0.9547200000000001, -0.9296, -0.96729, -0.9966, -1.0426600000000001, -0.57365, -1.0426600000000001, -1.00916, -0.40614, -0.87935, -0.5904, -0.8877200000000001, -0.9631, -0.92122]}, {\"hovertemplate\": \"cluster=#7FFF00<br>swsLengthM=%{x}<br>epochCapacity=%{y}<br>lengthEdaStorm=%{z}<extra></extra>\", \"legendgroup\": \"#7FFF00\", \"marker\": {\"color\": \"#ab63fa\", \"symbol\": \"circle\"}, \"mode\": \"markers\", \"name\": \"#7FFF00\", \"scene\": \"scene\", \"showlegend\": true, \"type\": \"scatter3d\", \"x\": [0.75629, 0.74805, -0.12243, -1.00196, 1.2375399999999999, 0.9449700000000001, -1.00196], \"y\": [1.27851, 1.3732799999999998, 1.71514, 0.45995, 1.4848700000000001, 1.42963, 2.96042], \"z\": [1.28566, 1.4029200000000002, 1.0679, 2.7974, 1.53273, 0.88365, 2.92722]}],                        {\"legend\": {\"title\": {\"text\": \"cluster\"}, \"tracegroupgap\": 0}, \"margin\": {\"t\": 60}, \"scene\": {\"domain\": {\"x\": [0.0, 1.0], \"y\": [0.0, 1.0]}, \"xaxis\": {\"title\": {\"text\": \"swsLengthM\"}}, \"yaxis\": {\"title\": {\"text\": \"epochCapacity\"}}, \"zaxis\": {\"title\": {\"text\": \"lengthEdaStorm\"}}}, \"template\": {\"data\": {\"bar\": [{\"error_x\": {\"color\": \"#2a3f5f\"}, \"error_y\": {\"color\": \"#2a3f5f\"}, \"marker\": {\"line\": {\"color\": \"#E5ECF6\", \"width\": 0.5}}, \"type\": \"bar\"}], \"barpolar\": [{\"marker\": {\"line\": {\"color\": \"#E5ECF6\", \"width\": 0.5}}, \"type\": \"barpolar\"}], \"carpet\": [{\"aaxis\": {\"endlinecolor\": \"#2a3f5f\", \"gridcolor\": \"white\", \"linecolor\": \"white\", \"minorgridcolor\": \"white\", \"startlinecolor\": \"#2a3f5f\"}, \"baxis\": {\"endlinecolor\": \"#2a3f5f\", \"gridcolor\": \"white\", \"linecolor\": \"white\", \"minorgridcolor\": \"white\", \"startlinecolor\": \"#2a3f5f\"}, \"type\": \"carpet\"}], \"choropleth\": [{\"colorbar\": {\"outlinewidth\": 0, \"ticks\": \"\"}, \"type\": \"choropleth\"}], \"contour\": [{\"colorbar\": {\"outlinewidth\": 0, \"ticks\": \"\"}, \"colorscale\": [[0.0, \"#0d0887\"], [0.1111111111111111, \"#46039f\"], [0.2222222222222222, \"#7201a8\"], [0.3333333333333333, \"#9c179e\"], [0.4444444444444444, \"#bd3786\"], [0.5555555555555556, \"#d8576b\"], [0.6666666666666666, \"#ed7953\"], [0.7777777777777778, \"#fb9f3a\"], [0.8888888888888888, \"#fdca26\"], [1.0, \"#f0f921\"]], \"type\": \"contour\"}], \"contourcarpet\": [{\"colorbar\": {\"outlinewidth\": 0, \"ticks\": \"\"}, \"type\": \"contourcarpet\"}], \"heatmap\": [{\"colorbar\": {\"outlinewidth\": 0, \"ticks\": \"\"}, \"colorscale\": [[0.0, \"#0d0887\"], [0.1111111111111111, \"#46039f\"], [0.2222222222222222, \"#7201a8\"], [0.3333333333333333, \"#9c179e\"], [0.4444444444444444, \"#bd3786\"], [0.5555555555555556, \"#d8576b\"], [0.6666666666666666, \"#ed7953\"], [0.7777777777777778, \"#fb9f3a\"], [0.8888888888888888, \"#fdca26\"], [1.0, \"#f0f921\"]], \"type\": \"heatmap\"}], \"heatmapgl\": [{\"colorbar\": {\"outlinewidth\": 0, \"ticks\": \"\"}, \"colorscale\": [[0.0, \"#0d0887\"], [0.1111111111111111, \"#46039f\"], [0.2222222222222222, \"#7201a8\"], [0.3333333333333333, \"#9c179e\"], [0.4444444444444444, \"#bd3786\"], [0.5555555555555556, \"#d8576b\"], [0.6666666666666666, \"#ed7953\"], [0.7777777777777778, \"#fb9f3a\"], [0.8888888888888888, \"#fdca26\"], [1.0, \"#f0f921\"]], \"type\": \"heatmapgl\"}], \"histogram\": [{\"marker\": {\"colorbar\": {\"outlinewidth\": 0, \"ticks\": \"\"}}, \"type\": \"histogram\"}], \"histogram2d\": [{\"colorbar\": {\"outlinewidth\": 0, \"ticks\": \"\"}, \"colorscale\": [[0.0, \"#0d0887\"], [0.1111111111111111, \"#46039f\"], [0.2222222222222222, \"#7201a8\"], [0.3333333333333333, \"#9c179e\"], [0.4444444444444444, \"#bd3786\"], [0.5555555555555556, \"#d8576b\"], [0.6666666666666666, \"#ed7953\"], [0.7777777777777778, \"#fb9f3a\"], [0.8888888888888888, \"#fdca26\"], [1.0, \"#f0f921\"]], \"type\": \"histogram2d\"}], \"histogram2dcontour\": [{\"colorbar\": {\"outlinewidth\": 0, \"ticks\": \"\"}, \"colorscale\": [[0.0, \"#0d0887\"], [0.1111111111111111, \"#46039f\"], [0.2222222222222222, \"#7201a8\"], [0.3333333333333333, \"#9c179e\"], [0.4444444444444444, \"#bd3786\"], [0.5555555555555556, \"#d8576b\"], [0.6666666666666666, \"#ed7953\"], [0.7777777777777778, \"#fb9f3a\"], [0.8888888888888888, \"#fdca26\"], [1.0, \"#f0f921\"]], \"type\": \"histogram2dcontour\"}], \"mesh3d\": [{\"colorbar\": {\"outlinewidth\": 0, \"ticks\": \"\"}, \"type\": \"mesh3d\"}], \"parcoords\": [{\"line\": {\"colorbar\": {\"outlinewidth\": 0, \"ticks\": \"\"}}, \"type\": \"parcoords\"}], \"pie\": [{\"automargin\": true, \"type\": \"pie\"}], \"scatter\": [{\"marker\": {\"colorbar\": {\"outlinewidth\": 0, \"ticks\": \"\"}}, \"type\": \"scatter\"}], \"scatter3d\": [{\"line\": {\"colorbar\": {\"outlinewidth\": 0, \"ticks\": \"\"}}, \"marker\": {\"colorbar\": {\"outlinewidth\": 0, \"ticks\": \"\"}}, \"type\": \"scatter3d\"}], \"scattercarpet\": [{\"marker\": {\"colorbar\": {\"outlinewidth\": 0, \"ticks\": \"\"}}, \"type\": \"scattercarpet\"}], \"scattergeo\": [{\"marker\": {\"colorbar\": {\"outlinewidth\": 0, \"ticks\": \"\"}}, \"type\": \"scattergeo\"}], \"scattergl\": [{\"marker\": {\"colorbar\": {\"outlinewidth\": 0, \"ticks\": \"\"}}, \"type\": \"scattergl\"}], \"scattermapbox\": [{\"marker\": {\"colorbar\": {\"outlinewidth\": 0, \"ticks\": \"\"}}, \"type\": \"scattermapbox\"}], \"scatterpolar\": [{\"marker\": {\"colorbar\": {\"outlinewidth\": 0, \"ticks\": \"\"}}, \"type\": \"scatterpolar\"}], \"scatterpolargl\": [{\"marker\": {\"colorbar\": {\"outlinewidth\": 0, \"ticks\": \"\"}}, \"type\": \"scatterpolargl\"}], \"scatterternary\": [{\"marker\": {\"colorbar\": {\"outlinewidth\": 0, \"ticks\": \"\"}}, \"type\": \"scatterternary\"}], \"surface\": [{\"colorbar\": {\"outlinewidth\": 0, \"ticks\": \"\"}, \"colorscale\": [[0.0, \"#0d0887\"], [0.1111111111111111, \"#46039f\"], [0.2222222222222222, \"#7201a8\"], [0.3333333333333333, \"#9c179e\"], [0.4444444444444444, \"#bd3786\"], [0.5555555555555556, \"#d8576b\"], [0.6666666666666666, \"#ed7953\"], [0.7777777777777778, \"#fb9f3a\"], [0.8888888888888888, \"#fdca26\"], [1.0, \"#f0f921\"]], \"type\": \"surface\"}], \"table\": [{\"cells\": {\"fill\": {\"color\": \"#EBF0F8\"}, \"line\": {\"color\": \"white\"}}, \"header\": {\"fill\": {\"color\": \"#C8D4E3\"}, \"line\": {\"color\": \"white\"}}, \"type\": \"table\"}]}, \"layout\": {\"annotationdefaults\": {\"arrowcolor\": \"#2a3f5f\", \"arrowhead\": 0, \"arrowwidth\": 1}, \"autotypenumbers\": \"strict\", \"coloraxis\": {\"colorbar\": {\"outlinewidth\": 0, \"ticks\": \"\"}}, \"colorscale\": {\"diverging\": [[0, \"#8e0152\"], [0.1, \"#c51b7d\"], [0.2, \"#de77ae\"], [0.3, \"#f1b6da\"], [0.4, \"#fde0ef\"], [0.5, \"#f7f7f7\"], [0.6, \"#e6f5d0\"], [0.7, \"#b8e186\"], [0.8, \"#7fbc41\"], [0.9, \"#4d9221\"], [1, \"#276419\"]], \"sequential\": [[0.0, \"#0d0887\"], [0.1111111111111111, \"#46039f\"], [0.2222222222222222, \"#7201a8\"], [0.3333333333333333, \"#9c179e\"], [0.4444444444444444, \"#bd3786\"], [0.5555555555555556, \"#d8576b\"], [0.6666666666666666, \"#ed7953\"], [0.7777777777777778, \"#fb9f3a\"], [0.8888888888888888, \"#fdca26\"], [1.0, \"#f0f921\"]], \"sequentialminus\": [[0.0, \"#0d0887\"], [0.1111111111111111, \"#46039f\"], [0.2222222222222222, \"#7201a8\"], [0.3333333333333333, \"#9c179e\"], [0.4444444444444444, \"#bd3786\"], [0.5555555555555556, \"#d8576b\"], [0.6666666666666666, \"#ed7953\"], [0.7777777777777778, \"#fb9f3a\"], [0.8888888888888888, \"#fdca26\"], [1.0, \"#f0f921\"]]}, \"colorway\": [\"#636efa\", \"#EF553B\", \"#00cc96\", \"#ab63fa\", \"#FFA15A\", \"#19d3f3\", \"#FF6692\", \"#B6E880\", \"#FF97FF\", \"#FECB52\"], \"font\": {\"color\": \"#2a3f5f\"}, \"geo\": {\"bgcolor\": \"white\", \"lakecolor\": \"white\", \"landcolor\": \"#E5ECF6\", \"showlakes\": true, \"showland\": true, \"subunitcolor\": \"white\"}, \"hoverlabel\": {\"align\": \"left\"}, \"hovermode\": \"closest\", \"mapbox\": {\"style\": \"light\"}, \"paper_bgcolor\": \"white\", \"plot_bgcolor\": \"#E5ECF6\", \"polar\": {\"angularaxis\": {\"gridcolor\": \"white\", \"linecolor\": \"white\", \"ticks\": \"\"}, \"bgcolor\": \"#E5ECF6\", \"radialaxis\": {\"gridcolor\": \"white\", \"linecolor\": \"white\", \"ticks\": \"\"}}, \"scene\": {\"xaxis\": {\"backgroundcolor\": \"#E5ECF6\", \"gridcolor\": \"white\", \"gridwidth\": 2, \"linecolor\": \"white\", \"showbackground\": true, \"ticks\": \"\", \"zerolinecolor\": \"white\"}, \"yaxis\": {\"backgroundcolor\": \"#E5ECF6\", \"gridcolor\": \"white\", \"gridwidth\": 2, \"linecolor\": \"white\", \"showbackground\": true, \"ticks\": \"\", \"zerolinecolor\": \"white\"}, \"zaxis\": {\"backgroundcolor\": \"#E5ECF6\", \"gridcolor\": \"white\", \"gridwidth\": 2, \"linecolor\": \"white\", \"showbackground\": true, \"ticks\": \"\", \"zerolinecolor\": \"white\"}}, \"shapedefaults\": {\"line\": {\"color\": \"#2a3f5f\"}}, \"ternary\": {\"aaxis\": {\"gridcolor\": \"white\", \"linecolor\": \"white\", \"ticks\": \"\"}, \"baxis\": {\"gridcolor\": \"white\", \"linecolor\": \"white\", \"ticks\": \"\"}, \"bgcolor\": \"#E5ECF6\", \"caxis\": {\"gridcolor\": \"white\", \"linecolor\": \"white\", \"ticks\": \"\"}}, \"title\": {\"x\": 0.05}, \"xaxis\": {\"automargin\": true, \"gridcolor\": \"white\", \"linecolor\": \"white\", \"ticks\": \"\", \"title\": {\"standoff\": 15}, \"zerolinecolor\": \"white\", \"zerolinewidth\": 2}, \"yaxis\": {\"automargin\": true, \"gridcolor\": \"white\", \"linecolor\": \"white\", \"ticks\": \"\", \"title\": {\"standoff\": 15}, \"zerolinecolor\": \"white\", \"zerolinewidth\": 2}}}},                        {\"responsive\": true}                    ).then(function(){\n",
       "                            \n",
       "var gd = document.getElementById('881cbc2d-2074-41fd-9f41-804d8e37a14a');\n",
       "var x = new MutationObserver(function (mutations, observer) {{\n",
       "        var display = window.getComputedStyle(gd).display;\n",
       "        if (!display || display === 'none') {{\n",
       "            console.log([gd, 'removed!']);\n",
       "            Plotly.purge(gd);\n",
       "            observer.disconnect();\n",
       "        }}\n",
       "}});\n",
       "\n",
       "// Listen for the removal of the full notebook cells\n",
       "var notebookContainer = gd.closest('#notebook-container');\n",
       "if (notebookContainer) {{\n",
       "    x.observe(notebookContainer, {childList: true});\n",
       "}}\n",
       "\n",
       "// Listen for the clearing of the current output cell\n",
       "var outputEl = gd.closest('.output');\n",
       "if (outputEl) {{\n",
       "    x.observe(outputEl, {childList: true});\n",
       "}}\n",
       "\n",
       "                        })                };                });            </script>        </div>"
      ]
     },
     "metadata": {},
     "output_type": "display_data"
    }
   ],
   "source": [
    "px.scatter_3d(final_cluster_df, x='swsLengthM', y='epochCapacity', z='lengthEdaStorm',color='cluster')"
   ]
  },
  {
   "cell_type": "code",
   "execution_count": 53,
   "metadata": {},
   "outputs": [
    {
     "data": {
      "text/plain": [
       "[0.796]"
      ]
     },
     "execution_count": 53,
     "metadata": {},
     "output_type": "execute_result"
    }
   ],
   "source": [
    "Dunn_indices"
   ]
  },
  {
   "cell_type": "markdown",
   "metadata": {},
   "source": [
    "- Creating a cluster with the features `['swsLengthM', 'epochCapacity','lengthEdaStorm','epochPeakCounter','stormPeak']` and `sample size 100`"
   ]
  },
  {
   "cell_type": "code",
   "execution_count": 54,
   "metadata": {},
   "outputs": [],
   "source": [
    "features = df[['swsLengthM', 'epochCapacity','lengthEdaStorm','epochPeakCounter','stormPeak']].sample(100)\n",
    "K_means = K_Means_clustering(k = 4)\n",
    "K_means.fit(np.array(features))"
   ]
  },
  {
   "cell_type": "code",
   "execution_count": 55,
   "metadata": {},
   "outputs": [
    {
     "name": "stdout",
     "output_type": "stream",
     "text": [
      "DI for the above model is 1.24\n"
     ]
    }
   ],
   "source": [
    "print('DI for the above model is ' + str(Dunn_Index(K_means.clusters, K_means.centroids)))"
   ]
  },
  {
   "cell_type": "markdown",
   "metadata": {},
   "source": [
    "- Creating a cluster with the features `['swsLengthM', 'epochCapacity','lengthEdaStorm','epochPeakCounter','stormPeak']` and `sample size 500`"
   ]
  },
  {
   "cell_type": "code",
   "execution_count": 56,
   "metadata": {},
   "outputs": [],
   "source": [
    "features = df[['swsLengthM', 'epochCapacity','lengthEdaStorm','epochPeakCounter','stormPeak']].sample(50)\n",
    "K_means = K_Means_clustering(k = 4)\n",
    "K_means.fit(np.array(features))"
   ]
  },
  {
   "cell_type": "code",
   "execution_count": 57,
   "metadata": {},
   "outputs": [
    {
     "name": "stdout",
     "output_type": "stream",
     "text": [
      "DI for the above model is 0.753\n"
     ]
    }
   ],
   "source": [
    "print('DI for the above model is ' + str(Dunn_Index(K_means.clusters, K_means.centroids)))"
   ]
  },
  {
   "cell_type": "code",
   "execution_count": 58,
   "metadata": {},
   "outputs": [
    {
     "data": {
      "text/plain": [
       "Text(0.5, 1.0, 'Dunn Index vs Sample size')"
      ]
     },
     "execution_count": 58,
     "metadata": {},
     "output_type": "execute_result"
    },
    {
     "data": {
      "image/png": "[encoded data removed]",
      "text/plain": [
       "<Figure size 576x432 with 1 Axes>"
      ]
     },
     "metadata": {
      "needs_background": "light"
     },
     "output_type": "display_data"
    }
   ],
   "source": [
    "columns = ['S100_F3','S50_F3', 'S100_F5', 'S50_F5','FULL_F3','FULL_F5']\n",
    "values = [0.864,0.796,1.24,0.753,0.843,0.502]\n",
    "plt.figure(figsize=[8,6])\n",
    "sns.barplot(x=columns, y=values, palette=\"Blues_d\")\n",
    "plt.xlabel('Dataset size')\n",
    "plt.ylabel('Dunn Index')\n",
    "plt.title('Dunn Index vs Sample size')"
   ]
  },
  {
   "cell_type": "markdown",
   "metadata": {},
   "source": [
    "**D (Bonus): What happens to the relative positioning of the centroids as you sample\n",
    "fewer observations (100, 50, 25) from the data? Do the centroids go farther apart\n",
    "or do they get closer after your clustering algorithm has converged? Justify why.\n",
    "Plot your findings (sample size (x-axis) vs Dunn Index (y-axis)). (Bonus: 10\n",
    "points)**"
   ]
  },
  {
   "cell_type": "code",
   "execution_count": 59,
   "metadata": {},
   "outputs": [
    {
     "data": {
      "image/png": "[encoded data removed]",
      "text/plain": [
       "<Figure size 432x288 with 1 Axes>"
      ]
     },
     "metadata": {
      "needs_background": "light"
     },
     "output_type": "display_data"
    }
   ],
   "source": [
    "clf = K_Means_clustering(k = 2)\n",
    "DI = []\n",
    "for sample_size in [100,50,20]:\n",
    "    features_1a = df[['swsLengthM', 'epochCapacity']].sample(sample_size)\n",
    "    clf.fit(np.array(features_1a))\n",
    "    Centroid_distance = round(np.linalg.norm(clf.centroids[0]-clf.centroids[1]),3)\n",
    "    DI.append(Dunn_Index(clf.clusters, clf.centroids))\n",
    "sns.barplot(x=[100 , 50, 20], y=[1.961,1.601,2.107],palette=\"BuGn\")\n",
    "plt.xlabel('Sample size')\n",
    "plt.ylabel('Centroid distance')\n",
    "plt.title('Centroid distance vs Sample size')\n",
    "plt.show()"
   ]
  },
  {
   "cell_type": "code",
   "execution_count": 60,
   "metadata": {},
   "outputs": [
    {
     "data": {
      "image/png": "[encoded data removed]",
      "text/plain": [
       "<Figure size 432x288 with 1 Axes>"
      ]
     },
     "metadata": {
      "needs_background": "light"
     },
     "output_type": "display_data"
    }
   ],
   "source": [
    "sns.barplot(x=[100 , 50, 20], y=DI, palette=\"BuPu\")\n",
    "plt.xlabel('Sample size')\n",
    "plt.ylabel('Dunn Index')\n",
    "plt.title('Dunn Index vs Sample size')\n",
    "plt.show()"
   ]
  },
  {
   "cell_type": "code",
   "execution_count": 61,
   "metadata": {},
   "outputs": [
    {
     "data": {
      "image/png": "[encoded data removed]",
      "text/plain": [
       "<Figure size 432x288 with 1 Axes>"
      ]
     },
     "metadata": {
      "needs_background": "light"
     },
     "output_type": "display_data"
    }
   ],
   "source": [
    "clf = K_Means_clustering(k = 2)\n",
    "DI = []\n",
    "for sample_size in [100,50,20]:\n",
    "    features_1a = df[['swsLengthM', 'epochCapacity','lengthEdaStorm','epochPeakCounter','stormPeak']].sample(sample_size)\n",
    "    clf.fit(np.array(features_1a))\n",
    "    Centroid_distance = round(np.linalg.norm(clf.centroids[0]-clf.centroids[1]),3)\n",
    "    DI.append(Dunn_Index(clf.clusters, clf.centroids))\n",
    "sns.barplot(x=[100 , 50, 20], y=[1.961,1.601,2.107], palette=\"cividis\")\n",
    "plt.xlabel('Sample size')\n",
    "plt.ylabel('Centroid distance')\n",
    "plt.title('Centroid distance vs Sample size')\n",
    "plt.show()"
   ]
  },
  {
   "cell_type": "code",
   "execution_count": 62,
   "metadata": {},
   "outputs": [
    {
     "data": {
      "image/png": "[encoded data removed]",
      "text/plain": [
       "<Figure size 432x288 with 1 Axes>"
      ]
     },
     "metadata": {
      "needs_background": "light"
     },
     "output_type": "display_data"
    }
   ],
   "source": [
    "sns.barplot(x=[100 , 50, 20], y=DI , palette=\"magma\")\n",
    "plt.xlabel('Sample size')\n",
    "plt.ylabel('Dunn Index')\n",
    "plt.title('Dunn Index vs Sample size')\n",
    "plt.show()"
   ]
  }
 ],
 "metadata": {
  "kernelspec": {
   "display_name": "Python 3",
   "language": "python",
   "name": "python3"
  },
  "language_info": {
   "codemirror_mode": {
    "name": "ipython",
    "version": 3
   },
   "file_extension": ".py",
   "mimetype": "text/x-python",
   "name": "python",
   "nbconvert_exporter": "python",
   "pygments_lexer": "ipython3",
   "version": "3.8.5"
  }
 },
 "nbformat": 4,
 "nbformat_minor": 4
}
